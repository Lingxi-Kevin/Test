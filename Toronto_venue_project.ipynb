{
 "metadata": {
  "language_info": {
   "codemirror_mode": {
    "name": "ipython",
    "version": 3
   },
   "file_extension": ".py",
   "mimetype": "text/x-python",
   "name": "python",
   "nbconvert_exporter": "python",
   "pygments_lexer": "ipython3",
   "version": "3.8.3-final"
  },
  "orig_nbformat": 2,
  "kernelspec": {
   "name": "python3",
   "display_name": "Python 3"
  }
 },
 "nbformat": 4,
 "nbformat_minor": 2,
 "cells": [
  {
   "cell_type": "code",
   "execution_count": 1,
   "metadata": {},
   "outputs": [
    {
     "output_type": "stream",
     "name": "stdout",
     "text": [
      "Collecting package metadata (current_repodata.json): done\n",
      "Solving environment: done\n",
      "\n",
      "# All requested packages already installed.\n",
      "\n",
      "Libraries imported.\n"
     ]
    }
   ],
   "source": [
    "import numpy as np # library to handle data in a vectorized manner\n",
    "\n",
    "import pandas as pd # library for data analsysis\n",
    "pd.set_option('display.max_columns', None)\n",
    "pd.set_option('display.max_rows', None)\n",
    "\n",
    "import json # library to handle JSON files\n",
    "\n",
    "!conda install -c conda-forge geopy --yes # uncomment this line if you haven't completed the Foursquare API lab\n",
    "from geopy.geocoders import Nominatim # convert an address into latitude and longitude values\n",
    "\n",
    "import requests # library to handle requests\n",
    "from pandas.io.json import json_normalize # tranform JSON file into a pandas dataframe\n",
    "\n",
    "# Matplotlib and associated plotting modules\n",
    "import matplotlib.cm as cm\n",
    "import matplotlib.colors as colors\n",
    "\n",
    "# import k-means from clustering stage\n",
    "from sklearn.cluster import KMeans\n",
    "\n",
    "#!conda install -c conda-forge folium=0.5.0 --yes # uncomment this line if you haven't completed the Foursquare API lab\n",
    "import folium # map rendering library\n",
    "\n",
    "print('Libraries imported.')"
   ]
  },
  {
   "cell_type": "code",
   "execution_count": 2,
   "metadata": {},
   "outputs": [
    {
     "output_type": "stream",
     "name": "stdout",
     "text": [
      "Your credentails:\nCLIENT_ID: UOUHP3MTCGTBH0LIOXISERQSLW0Y4IDY3T3AIBQTN3Z0GTR0\nCLIENT_SECRET:0W3UBB3YVCCQYYDCHA21J2QBNYJBINVNQJ5LNUBTCE5J3NBL\n"
     ]
    }
   ],
   "source": [
    "CLIENT_ID = 'UOUHP3MTCGTBH0LIOXISERQSLW0Y4IDY3T3AIBQTN3Z0GTR0' # your Foursquare ID\n",
    "CLIENT_SECRET = '0W3UBB3YVCCQYYDCHA21J2QBNYJBINVNQJ5LNUBTCE5J3NBL' # your Foursquare Secret\n",
    "ACCESS_TOKEN = 'J3QQOFWWFU2N2ZEB0UOSD2MR3QCSA2KLSVXYDW2K2FTKF3JH' # your FourSquare Access Token\n",
    "VERSION = '20180605' # Foursquare API version\n",
    "LIMIT = 100 # A default Foursquare API limit value\n",
    "\n",
    "print('Your credentails:')\n",
    "print('CLIENT_ID: ' + CLIENT_ID)\n",
    "print('CLIENT_SECRET:' + CLIENT_SECRET)"
   ]
  },
  {
   "source": [
    "## Retrieving Foursquare categories information"
   ],
   "cell_type": "markdown",
   "metadata": {}
  },
  {
   "cell_type": "code",
   "execution_count": 3,
   "metadata": {},
   "outputs": [],
   "source": [
    "# create the API request URL\n",
    "url = 'https://api.foursquare.com/v2/venues/categories?&client_id={}&client_secret={}&v={}'.format(\n",
    "    CLIENT_ID, \n",
    "    CLIENT_SECRET, \n",
    "    VERSION)\n",
    "    \n",
    "# make the GET request\n",
    "results = requests.get(url).json()\n"
   ]
  },
  {
   "cell_type": "code",
   "execution_count": 4,
   "metadata": {},
   "outputs": [],
   "source": [
    "a = pd.DataFrame(results[\"response\"][\"categories\"])\n",
    "a.head()\n",
    "ind = a.loc[:,\"pluralName\"]==\"Food\"\n",
    "test = np.sum(ind.index.to_numpy()*ind.to_numpy())\n",
    "test\n",
    "b = pd.DataFrame(a.loc[test,\"categories\"])\n",
    "restaurant_category_list = b[\"name\"]"
   ]
  },
  {
   "source": [
    "## Derive existing restaurant information in different neighbourhood\n"
   ],
   "cell_type": "markdown",
   "metadata": {}
  },
  {
   "cell_type": "code",
   "execution_count": 5,
   "metadata": {},
   "outputs": [],
   "source": [
    "# Read the suburbs coordinates.\n",
    "df = pd.read_csv(\"Toronto_neighbourhood.csv\")\n"
   ]
  },
  {
   "cell_type": "code",
   "execution_count": 6,
   "metadata": {},
   "outputs": [],
   "source": [
    "def getNearbyVenues(names, latitudes, longitudes, section=\"food\", radius=500):\n",
    "    \n",
    "    venues_list=[]\n",
    "    for name, lat, lng in zip(names, latitudes, longitudes):\n",
    "        print(name)\n",
    "            \n",
    "        # create the API request URL\n",
    "        url = 'https://api.foursquare.com/v2/venues/explore?&client_id={}&client_secret={}&v={}&ll={},{}&radius={}&section={}&limit={}'.format(\n",
    "            CLIENT_ID, \n",
    "            CLIENT_SECRET, \n",
    "            VERSION, \n",
    "            lat, \n",
    "            lng, \n",
    "            radius,\n",
    "            section, \n",
    "            LIMIT)\n",
    "            \n",
    "        # make the GET request\n",
    "        results = requests.get(url).json()[\"response\"]['groups'][0]['items']\n",
    "        \n",
    "        # return only relevant information for each nearby venue\n",
    "        venues_list.append([(\n",
    "            name, \n",
    "            lat, \n",
    "            lng, \n",
    "            v['venue']['name'], \n",
    "            v['venue']['location']['lat'], \n",
    "            v['venue']['location']['lng'],  \n",
    "            v['venue']['categories'][0]['name']) for v in results])\n",
    "\n",
    "    nearby_venues = pd.DataFrame([item for venue_list in venues_list for item in venue_list])\n",
    "    nearby_venues.columns = ['Neighbourhood', \n",
    "                  'Neighbourhood Latitude', \n",
    "                  'Neighbourhood Longitude', \n",
    "                  'Venue', \n",
    "                  'Venue Latitude', \n",
    "                  'Venue Longitude', \n",
    "                  'Venue Category']\n",
    "    \n",
    "    return(nearby_venues)"
   ]
  },
  {
   "source": [
    "## Define search radius\n",
    "- Considering that the size of Toronto is 630 square meters and we are examing 108 areas here, Two longest distances from north to South and from East to West are 21 and 43 km respectively.\n",
    "\n",
    "- Therefore, each area would be about 6 square km and consider the length and width ratio mentioned above (2:1), we can say \n",
    "considering that the cover range would be a about 4*1.5.\n",
    "- so we will use a 2 km search radius as the half size of the length.\n"
   ],
   "cell_type": "markdown",
   "metadata": {}
  },
  {
   "cell_type": "code",
   "execution_count": 7,
   "metadata": {},
   "outputs": [
    {
     "output_type": "stream",
     "name": "stdout",
     "text": [
      "Malvern, Rouge\n",
      "Rouge Hill, Port Union, Highland Creek\n",
      "Guildwood, Morningside, West Hill\n",
      "Woburn\n",
      "Cedarbrae\n",
      "Scarborough Village\n",
      "Kennedy Park, Ionview, East Birchmount Park\n",
      "Golden Mile, Clairlea, Oakridge\n",
      "Cliffside, Cliffcrest, Scarborough Village West\n",
      "Birch Cliff, Cliffside West\n",
      "Dorset Park, Wexford Heights, Scarborough Town Centre\n",
      "Wexford, Maryvale\n",
      "Agincourt\n",
      "Clarks Corners, Tam O'Shanter, Sullivan\n",
      "Milliken, Agincourt North, Steeles East, L'Amoreaux East\n",
      "Steeles West, L'Amoreaux West\n",
      "Upper Rouge\n",
      "Hillcrest Village\n",
      "Fairview, Henry Farm, Oriole\n",
      "Bayview Village\n",
      "York Mills, Silver Hills\n",
      "Willowdale, Newtonbrook\n",
      "Willowdale, Willowdale East\n",
      "York Mills West\n",
      "Willowdale, Willowdale West\n",
      "Parkwoods\n",
      "Don Mills\n",
      "Don Mills\n",
      "Bathurst Manor, Wilson Heights, Downsview North\n",
      "Northwood Park, York University\n",
      "Downsview\n",
      "Downsview\n",
      "Downsview\n",
      "Downsview\n",
      "Victoria Village\n",
      "Parkview Hill, Woodbine Gardens\n",
      "Woodbine Heights\n",
      "The Beaches\n",
      "Leaside\n"
     ]
    },
    {
     "output_type": "error",
     "ename": "KeyError",
     "evalue": "'groups'",
     "traceback": [
      "\u001b[0;31m---------------------------------------------------------------------------\u001b[0m",
      "\u001b[0;31mKeyError\u001b[0m                                  Traceback (most recent call last)",
      "\u001b[0;32m<ipython-input-7-bbd863803a8d>\u001b[0m in \u001b[0;36m<module>\u001b[0;34m\u001b[0m\n\u001b[1;32m      1\u001b[0m \u001b[0mToronto_data\u001b[0m \u001b[0;34m=\u001b[0m \u001b[0mdf\u001b[0m\u001b[0;34m\u001b[0m\u001b[0;34m\u001b[0m\u001b[0m\n\u001b[0;32m----> 2\u001b[0;31m Toronto_venues = getNearbyVenues(names=Toronto_data['Neighbourhood'],\n\u001b[0m\u001b[1;32m      3\u001b[0m                                    \u001b[0mlatitudes\u001b[0m\u001b[0;34m=\u001b[0m\u001b[0mToronto_data\u001b[0m\u001b[0;34m[\u001b[0m\u001b[0;34m'Latitude'\u001b[0m\u001b[0;34m]\u001b[0m\u001b[0;34m,\u001b[0m\u001b[0;34m\u001b[0m\u001b[0;34m\u001b[0m\u001b[0m\n\u001b[1;32m      4\u001b[0m                                    \u001b[0mlongitudes\u001b[0m\u001b[0;34m=\u001b[0m\u001b[0mToronto_data\u001b[0m\u001b[0;34m[\u001b[0m\u001b[0;34m'Longitude'\u001b[0m\u001b[0;34m]\u001b[0m\u001b[0;34m,\u001b[0m\u001b[0;34m\u001b[0m\u001b[0;34m\u001b[0m\u001b[0m\n\u001b[1;32m      5\u001b[0m                                    \u001b[0mradius\u001b[0m\u001b[0;34m=\u001b[0m \u001b[0;36m2000\u001b[0m\u001b[0;34m\u001b[0m\u001b[0;34m\u001b[0m\u001b[0m\n",
      "\u001b[0;32m<ipython-input-6-7445470ae028>\u001b[0m in \u001b[0;36mgetNearbyVenues\u001b[0;34m(names, latitudes, longitudes, section, radius)\u001b[0m\n\u001b[1;32m     17\u001b[0m \u001b[0;34m\u001b[0m\u001b[0m\n\u001b[1;32m     18\u001b[0m         \u001b[0;31m# make the GET request\u001b[0m\u001b[0;34m\u001b[0m\u001b[0;34m\u001b[0m\u001b[0;34m\u001b[0m\u001b[0m\n\u001b[0;32m---> 19\u001b[0;31m         \u001b[0mresults\u001b[0m \u001b[0;34m=\u001b[0m \u001b[0mrequests\u001b[0m\u001b[0;34m.\u001b[0m\u001b[0mget\u001b[0m\u001b[0;34m(\u001b[0m\u001b[0murl\u001b[0m\u001b[0;34m)\u001b[0m\u001b[0;34m.\u001b[0m\u001b[0mjson\u001b[0m\u001b[0;34m(\u001b[0m\u001b[0;34m)\u001b[0m\u001b[0;34m[\u001b[0m\u001b[0;34m\"response\"\u001b[0m\u001b[0;34m]\u001b[0m\u001b[0;34m[\u001b[0m\u001b[0;34m'groups'\u001b[0m\u001b[0;34m]\u001b[0m\u001b[0;34m[\u001b[0m\u001b[0;36m0\u001b[0m\u001b[0;34m]\u001b[0m\u001b[0;34m[\u001b[0m\u001b[0;34m'items'\u001b[0m\u001b[0;34m]\u001b[0m\u001b[0;34m\u001b[0m\u001b[0;34m\u001b[0m\u001b[0m\n\u001b[0m\u001b[1;32m     20\u001b[0m \u001b[0;34m\u001b[0m\u001b[0m\n\u001b[1;32m     21\u001b[0m         \u001b[0;31m# return only relevant information for each nearby venue\u001b[0m\u001b[0;34m\u001b[0m\u001b[0;34m\u001b[0m\u001b[0;34m\u001b[0m\u001b[0m\n",
      "\u001b[0;31mKeyError\u001b[0m: 'groups'"
     ]
    }
   ],
   "source": [
    "Toronto_data = df\n",
    "Toronto_venues = getNearbyVenues(names=Toronto_data['Neighbourhood'],\n",
    "                                   latitudes=Toronto_data['Latitude'],\n",
    "                                   longitudes=Toronto_data['Longitude'],\n",
    "                                   radius= 2000\n",
    "                                  )\n",
    "Toronto_venues.head()\n",
    "\n",
    "Toronto_venues.to_csv(\"Toronto_venues.csv\")\n"
   ]
  },
  {
   "source": [
    "## Remove duplicate venues\n",
    "- There are some chances that the venues list provided by Foursquare search have duplicate ones for different suburbs, since there are cross search zone. (We were not be able to use a strict search coordinates here)\n",
    "- Therefore, we will scan all the address and allocate the venues to the cloest suburbs.\n"
   ],
   "cell_type": "markdown",
   "metadata": {}
  },
  {
   "cell_type": "code",
   "execution_count": 6,
   "metadata": {},
   "outputs": [],
   "source": [
    "Toronto_venues = pd.read_csv(\"Toronto_venues.csv\")\n",
    "RowsDF = Toronto_venues[Toronto_venues.duplicated(['Venue Latitude', 'Venue Longitude'],keep=False)]\n",
    "\n",
    "RowsDF[\"merged\"] = (RowsDF['Venue Latitude']+RowsDF['Venue Longitude']).to_numpy()"
   ]
  },
  {
   "cell_type": "code",
   "execution_count": 7,
   "metadata": {},
   "outputs": [],
   "source": [
    "Drop_list_index = np.array([])\n",
    "for ref in pd.unique(RowsDF[\"merged\"]):\n",
    "    temp = RowsDF.loc[RowsDF[\"merged\"]==ref,:]\n",
    "    temp[\"D\"] = 0\n",
    "    for i in list(temp.index):\n",
    "        temp.loc[i,\"D\"] = (temp.loc[i,\"Neighbourhood Latitude\"]-temp.loc[i,\"Venue Latitude\"])**2+(temp.loc[i,\"Neighbourhood Longitude\"]-temp.loc[i,\"Venue Longitude\"])**2 # euclidean distance between suburb centre and the venue location\n",
    "    Drop_list_index = np.append(Drop_list_index,temp.loc[temp[\"D\"]>np.min(temp[\"D\"]),:].index)\n"
   ]
  },
  {
   "cell_type": "code",
   "execution_count": 8,
   "metadata": {},
   "outputs": [],
   "source": [
    "Toronto_venues_refined = Toronto_venues.drop(Drop_list_index)\n",
    "Toronto_venues_grouped = Toronto_venues_refined.groupby(\"Neighbourhood\").count().reset_index()"
   ]
  },
  {
   "source": [
    "### Visualise the relationship between the number of venues and types of venues in each suburbs"
   ],
   "cell_type": "markdown",
   "metadata": {}
  },
  {
   "cell_type": "code",
   "execution_count": 9,
   "metadata": {},
   "outputs": [
    {
     "output_type": "display_data",
     "data": {
      "text/plain": "<Figure size 360x360 with 1 Axes>",
      "image/svg+xml": "<?xml version=\"1.0\" encoding=\"utf-8\" standalone=\"no\"?>\n<!DOCTYPE svg PUBLIC \"-//W3C//DTD SVG 1.1//EN\"\n  \"http://www.w3.org/Graphics/SVG/1.1/DTD/svg11.dtd\">\n<!-- Created with matplotlib (https://matplotlib.org/) -->\n<svg height=\"352.15625pt\" version=\"1.1\" viewBox=\"0 0 352.453125 352.15625\" width=\"352.453125pt\" xmlns=\"http://www.w3.org/2000/svg\" xmlns:xlink=\"http://www.w3.org/1999/xlink\">\n <defs>\n  <style type=\"text/css\">\n*{stroke-linecap:butt;stroke-linejoin:round;}\n  </style>\n </defs>\n <g id=\"figure_1\">\n  <g id=\"patch_1\">\n   <path d=\"M -0 352.15625 \nL 352.453125 352.15625 \nL 352.453125 0 \nL -0 0 \nz\n\" style=\"fill:none;\"/>\n  </g>\n  <g id=\"axes_1\">\n   <g id=\"patch_2\">\n    <path d=\"M 40.603125 314.6 \nL 345.253125 314.6 \nL 345.253125 7.2 \nL 40.603125 7.2 \nz\n\" style=\"fill:#ffffff;\"/>\n   </g>\n   <g id=\"PathCollection_1\">\n    <defs>\n     <path d=\"M 0 3 \nC 0.795609 3 1.55874 2.683901 2.12132 2.12132 \nC 2.683901 1.55874 3 0.795609 3 0 \nC 3 -0.795609 2.683901 -1.55874 2.12132 -2.12132 \nC 1.55874 -2.683901 0.795609 -3 0 -3 \nC -0.795609 -3 -1.55874 -2.683901 -2.12132 -2.12132 \nC -2.683901 -1.55874 -3 -0.795609 -3 0 \nC -3 0.795609 -2.683901 1.55874 -2.12132 2.12132 \nC -1.55874 2.683901 -0.795609 3 0 3 \nz\n\" id=\"m9417efe7ec\" style=\"stroke:#1f77b4;stroke-opacity:0.8;\"/>\n    </defs>\n    <g clip-path=\"url(#pedf5fb96ec)\">\n     <use style=\"fill:#1f77b4;fill-opacity:0.8;stroke:#1f77b4;stroke-opacity:0.8;\" x=\"316.91359\" xlink:href=\"#m9417efe7ec\" y=\"75.206117\"/>\n     <use style=\"fill:#1f77b4;fill-opacity:0.8;stroke:#1f77b4;stroke-opacity:0.8;\" x=\"274.404288\" xlink:href=\"#m9417efe7ec\" y=\"82.477767\"/>\n     <use style=\"fill:#1f77b4;fill-opacity:0.8;stroke:#1f77b4;stroke-opacity:0.8;\" x=\"100.824637\" xlink:href=\"#m9417efe7ec\" y=\"213.36747\"/>\n     <use style=\"fill:#1f77b4;fill-opacity:0.8;stroke:#1f77b4;stroke-opacity:0.8;\" x=\"51.230451\" xlink:href=\"#m9417efe7ec\" y=\"286.083972\"/>\n     <use style=\"fill:#1f77b4;fill-opacity:0.8;stroke:#1f77b4;stroke-opacity:0.8;\" x=\"217.725218\" xlink:href=\"#m9417efe7ec\" y=\"126.107668\"/>\n     <use style=\"fill:#1f77b4;fill-opacity:0.8;stroke:#1f77b4;stroke-opacity:0.8;\" x=\"54.772892\" xlink:href=\"#m9417efe7ec\" y=\"271.540672\"/>\n     <use style=\"fill:#1f77b4;fill-opacity:0.8;stroke:#1f77b4;stroke-opacity:0.8;\" x=\"83.112427\" xlink:href=\"#m9417efe7ec\" y=\"235.182421\"/>\n     <use style=\"fill:#1f77b4;fill-opacity:0.8;stroke:#1f77b4;stroke-opacity:0.8;\" x=\"203.555451\" xlink:href=\"#m9417efe7ec\" y=\"126.107668\"/>\n     <use style=\"fill:#1f77b4;fill-opacity:0.8;stroke:#1f77b4;stroke-opacity:0.8;\" x=\"164.58859\" xlink:href=\"#m9417efe7ec\" y=\"147.922619\"/>\n     <use style=\"fill:#1f77b4;fill-opacity:0.8;stroke:#1f77b4;stroke-opacity:0.8;\" x=\"253.149637\" xlink:href=\"#m9417efe7ec\" y=\"97.021067\"/>\n     <use style=\"fill:#1f77b4;fill-opacity:0.8;stroke:#1f77b4;stroke-opacity:0.8;\" x=\"139.791497\" xlink:href=\"#m9417efe7ec\" y=\"184.28087\"/>\n     <use style=\"fill:#1f77b4;fill-opacity:0.8;stroke:#1f77b4;stroke-opacity:0.8;\" x=\"285.031613\" xlink:href=\"#m9417efe7ec\" y=\"104.292718\"/>\n     <use style=\"fill:#1f77b4;fill-opacity:0.8;stroke:#1f77b4;stroke-opacity:0.8;\" x=\"164.58859\" xlink:href=\"#m9417efe7ec\" y=\"140.650969\"/>\n     <use style=\"fill:#1f77b4;fill-opacity:0.8;stroke:#1f77b4;stroke-opacity:0.8;\" x=\"72.485102\" xlink:href=\"#m9417efe7ec\" y=\"242.454071\"/>\n     <use style=\"fill:#1f77b4;fill-opacity:0.8;stroke:#1f77b4;stroke-opacity:0.8;\" x=\"161.046148\" xlink:href=\"#m9417efe7ec\" y=\"169.737569\"/>\n     <use style=\"fill:#1f77b4;fill-opacity:0.8;stroke:#1f77b4;stroke-opacity:0.8;\" x=\"161.046148\" xlink:href=\"#m9417efe7ec\" y=\"133.379318\"/>\n     <use style=\"fill:#1f77b4;fill-opacity:0.8;stroke:#1f77b4;stroke-opacity:0.8;\" x=\"256.692078\" xlink:href=\"#m9417efe7ec\" y=\"104.292718\"/>\n     <use style=\"fill:#1f77b4;fill-opacity:0.8;stroke:#1f77b4;stroke-opacity:0.8;\" x=\"90.197311\" xlink:href=\"#m9417efe7ec\" y=\"235.182421\"/>\n     <use style=\"fill:#1f77b4;fill-opacity:0.8;stroke:#1f77b4;stroke-opacity:0.8;\" x=\"61.857776\" xlink:href=\"#m9417efe7ec\" y=\"278.812322\"/>\n     <use style=\"fill:#1f77b4;fill-opacity:0.8;stroke:#1f77b4;stroke-opacity:0.8;\" x=\"150.418823\" xlink:href=\"#m9417efe7ec\" y=\"155.194269\"/>\n     <use style=\"fill:#1f77b4;fill-opacity:0.8;stroke:#1f77b4;stroke-opacity:0.8;\" x=\"68.94266\" xlink:href=\"#m9417efe7ec\" y=\"249.725721\"/>\n     <use style=\"fill:#1f77b4;fill-opacity:0.8;stroke:#1f77b4;stroke-opacity:0.8;\" x=\"104.367078\" xlink:href=\"#m9417efe7ec\" y=\"227.910771\"/>\n     <use style=\"fill:#1f77b4;fill-opacity:0.8;stroke:#1f77b4;stroke-opacity:0.8;\" x=\"345.253125\" xlink:href=\"#m9417efe7ec\" y=\"46.119516\"/>\n     <use style=\"fill:#1f77b4;fill-opacity:0.8;stroke:#1f77b4;stroke-opacity:0.8;\" x=\"207.097892\" xlink:href=\"#m9417efe7ec\" y=\"140.650969\"/>\n     <use style=\"fill:#1f77b4;fill-opacity:0.8;stroke:#1f77b4;stroke-opacity:0.8;\" x=\"263.776962\" xlink:href=\"#m9417efe7ec\" y=\"133.379318\"/>\n     <use style=\"fill:#1f77b4;fill-opacity:0.8;stroke:#1f77b4;stroke-opacity:0.8;\" x=\"122.079288\" xlink:href=\"#m9417efe7ec\" y=\"220.639121\"/>\n     <use style=\"fill:#1f77b4;fill-opacity:0.8;stroke:#1f77b4;stroke-opacity:0.8;\" x=\"132.706613\" xlink:href=\"#m9417efe7ec\" y=\"177.00922\"/>\n     <use style=\"fill:#1f77b4;fill-opacity:0.8;stroke:#1f77b4;stroke-opacity:0.8;\" x=\"58.315334\" xlink:href=\"#m9417efe7ec\" y=\"278.812322\"/>\n     <use style=\"fill:#1f77b4;fill-opacity:0.8;stroke:#1f77b4;stroke-opacity:0.8;\" x=\"196.470567\" xlink:href=\"#m9417efe7ec\" y=\"155.194269\"/>\n     <use style=\"fill:#1f77b4;fill-opacity:0.8;stroke:#1f77b4;stroke-opacity:0.8;\" x=\"40.603125\" xlink:href=\"#m9417efe7ec\" y=\"300.627273\"/>\n     <use style=\"fill:#1f77b4;fill-opacity:0.8;stroke:#1f77b4;stroke-opacity:0.8;\" x=\"129.164172\" xlink:href=\"#m9417efe7ec\" y=\"198.82417\"/>\n     <use style=\"fill:#1f77b4;fill-opacity:0.8;stroke:#1f77b4;stroke-opacity:0.8;\" x=\"93.739753\" xlink:href=\"#m9417efe7ec\" y=\"213.36747\"/>\n     <use style=\"fill:#1f77b4;fill-opacity:0.8;stroke:#1f77b4;stroke-opacity:0.8;\" x=\"157.503706\" xlink:href=\"#m9417efe7ec\" y=\"169.737569\"/>\n     <use style=\"fill:#1f77b4;fill-opacity:0.8;stroke:#1f77b4;stroke-opacity:0.8;\" x=\"136.249055\" xlink:href=\"#m9417efe7ec\" y=\"177.00922\"/>\n     <use style=\"fill:#1f77b4;fill-opacity:0.8;stroke:#1f77b4;stroke-opacity:0.8;\" x=\"111.451962\" xlink:href=\"#m9417efe7ec\" y=\"227.910771\"/>\n     <use style=\"fill:#1f77b4;fill-opacity:0.8;stroke:#1f77b4;stroke-opacity:0.8;\" x=\"83.112427\" xlink:href=\"#m9417efe7ec\" y=\"235.182421\"/>\n     <use style=\"fill:#1f77b4;fill-opacity:0.8;stroke:#1f77b4;stroke-opacity:0.8;\" x=\"161.046148\" xlink:href=\"#m9417efe7ec\" y=\"155.194269\"/>\n     <use style=\"fill:#1f77b4;fill-opacity:0.8;stroke:#1f77b4;stroke-opacity:0.8;\" x=\"200.013009\" xlink:href=\"#m9417efe7ec\" y=\"184.28087\"/>\n     <use style=\"fill:#1f77b4;fill-opacity:0.8;stroke:#1f77b4;stroke-opacity:0.8;\" x=\"107.90952\" xlink:href=\"#m9417efe7ec\" y=\"220.639121\"/>\n     <use style=\"fill:#1f77b4;fill-opacity:0.8;stroke:#1f77b4;stroke-opacity:0.8;\" x=\"65.400218\" xlink:href=\"#m9417efe7ec\" y=\"264.269022\"/>\n     <use style=\"fill:#1f77b4;fill-opacity:0.8;stroke:#1f77b4;stroke-opacity:0.8;\" x=\"281.489172\" xlink:href=\"#m9417efe7ec\" y=\"67.934467\"/>\n     <use style=\"fill:#1f77b4;fill-opacity:0.8;stroke:#1f77b4;stroke-opacity:0.8;\" x=\"136.249055\" xlink:href=\"#m9417efe7ec\" y=\"169.737569\"/>\n     <use style=\"fill:#1f77b4;fill-opacity:0.8;stroke:#1f77b4;stroke-opacity:0.8;\" x=\"51.230451\" xlink:href=\"#m9417efe7ec\" y=\"286.083972\"/>\n     <use style=\"fill:#1f77b4;fill-opacity:0.8;stroke:#1f77b4;stroke-opacity:0.8;\" x=\"107.90952\" xlink:href=\"#m9417efe7ec\" y=\"220.639121\"/>\n     <use style=\"fill:#1f77b4;fill-opacity:0.8;stroke:#1f77b4;stroke-opacity:0.8;\" x=\"267.319404\" xlink:href=\"#m9417efe7ec\" y=\"53.391166\"/>\n     <use style=\"fill:#1f77b4;fill-opacity:0.8;stroke:#1f77b4;stroke-opacity:0.8;\" x=\"132.706613\" xlink:href=\"#m9417efe7ec\" y=\"213.36747\"/>\n     <use style=\"fill:#1f77b4;fill-opacity:0.8;stroke:#1f77b4;stroke-opacity:0.8;\" x=\"228.352544\" xlink:href=\"#m9417efe7ec\" y=\"155.194269\"/>\n     <use style=\"fill:#1f77b4;fill-opacity:0.8;stroke:#1f77b4;stroke-opacity:0.8;\" x=\"118.536846\" xlink:href=\"#m9417efe7ec\" y=\"191.55252\"/>\n     <use style=\"fill:#1f77b4;fill-opacity:0.8;stroke:#1f77b4;stroke-opacity:0.8;\" x=\"178.758358\" xlink:href=\"#m9417efe7ec\" y=\"169.737569\"/>\n     <use style=\"fill:#1f77b4;fill-opacity:0.8;stroke:#1f77b4;stroke-opacity:0.8;\" x=\"238.979869\" xlink:href=\"#m9417efe7ec\" y=\"97.021067\"/>\n     <use style=\"fill:#1f77b4;fill-opacity:0.8;stroke:#1f77b4;stroke-opacity:0.8;\" x=\"100.824637\" xlink:href=\"#m9417efe7ec\" y=\"227.910771\"/>\n     <use style=\"fill:#1f77b4;fill-opacity:0.8;stroke:#1f77b4;stroke-opacity:0.8;\" x=\"323.998474\" xlink:href=\"#m9417efe7ec\" y=\"133.379318\"/>\n     <use style=\"fill:#1f77b4;fill-opacity:0.8;stroke:#1f77b4;stroke-opacity:0.8;\" x=\"302.743823\" xlink:href=\"#m9417efe7ec\" y=\"89.749417\"/>\n     <use style=\"fill:#1f77b4;fill-opacity:0.8;stroke:#1f77b4;stroke-opacity:0.8;\" x=\"107.90952\" xlink:href=\"#m9417efe7ec\" y=\"198.82417\"/>\n     <use style=\"fill:#1f77b4;fill-opacity:0.8;stroke:#1f77b4;stroke-opacity:0.8;\" x=\"157.503706\" xlink:href=\"#m9417efe7ec\" y=\"184.28087\"/>\n     <use style=\"fill:#1f77b4;fill-opacity:0.8;stroke:#1f77b4;stroke-opacity:0.8;\" x=\"58.315334\" xlink:href=\"#m9417efe7ec\" y=\"271.540672\"/>\n     <use style=\"fill:#1f77b4;fill-opacity:0.8;stroke:#1f77b4;stroke-opacity:0.8;\" x=\"114.994404\" xlink:href=\"#m9417efe7ec\" y=\"206.09582\"/>\n     <use style=\"fill:#1f77b4;fill-opacity:0.8;stroke:#1f77b4;stroke-opacity:0.8;\" x=\"107.90952\" xlink:href=\"#m9417efe7ec\" y=\"213.36747\"/>\n     <use style=\"fill:#1f77b4;fill-opacity:0.8;stroke:#1f77b4;stroke-opacity:0.8;\" x=\"221.26766\" xlink:href=\"#m9417efe7ec\" y=\"126.107668\"/>\n     <use style=\"fill:#1f77b4;fill-opacity:0.8;stroke:#1f77b4;stroke-opacity:0.8;\" x=\"122.079288\" xlink:href=\"#m9417efe7ec\" y=\"206.09582\"/>\n     <use style=\"fill:#1f77b4;fill-opacity:0.8;stroke:#1f77b4;stroke-opacity:0.8;\" x=\"200.013009\" xlink:href=\"#m9417efe7ec\" y=\"155.194269\"/>\n     <use style=\"fill:#1f77b4;fill-opacity:0.8;stroke:#1f77b4;stroke-opacity:0.8;\" x=\"86.654869\" xlink:href=\"#m9417efe7ec\" y=\"235.182421\"/>\n     <use style=\"fill:#1f77b4;fill-opacity:0.8;stroke:#1f77b4;stroke-opacity:0.8;\" x=\"93.739753\" xlink:href=\"#m9417efe7ec\" y=\"213.36747\"/>\n     <use style=\"fill:#1f77b4;fill-opacity:0.8;stroke:#1f77b4;stroke-opacity:0.8;\" x=\"72.485102\" xlink:href=\"#m9417efe7ec\" y=\"249.725721\"/>\n     <use style=\"fill:#1f77b4;fill-opacity:0.8;stroke:#1f77b4;stroke-opacity:0.8;\" x=\"132.706613\" xlink:href=\"#m9417efe7ec\" y=\"169.737569\"/>\n     <use style=\"fill:#1f77b4;fill-opacity:0.8;stroke:#1f77b4;stroke-opacity:0.8;\" x=\"83.112427\" xlink:href=\"#m9417efe7ec\" y=\"220.639121\"/>\n     <use style=\"fill:#1f77b4;fill-opacity:0.8;stroke:#1f77b4;stroke-opacity:0.8;\" x=\"47.688009\" xlink:href=\"#m9417efe7ec\" y=\"286.083972\"/>\n     <use style=\"fill:#1f77b4;fill-opacity:0.8;stroke:#1f77b4;stroke-opacity:0.8;\" x=\"143.333939\" xlink:href=\"#m9417efe7ec\" y=\"177.00922\"/>\n     <use style=\"fill:#1f77b4;fill-opacity:0.8;stroke:#1f77b4;stroke-opacity:0.8;\" x=\"90.197311\" xlink:href=\"#m9417efe7ec\" y=\"227.910771\"/>\n     <use style=\"fill:#1f77b4;fill-opacity:0.8;stroke:#1f77b4;stroke-opacity:0.8;\" x=\"214.182776\" xlink:href=\"#m9417efe7ec\" y=\"118.836018\"/>\n     <use style=\"fill:#1f77b4;fill-opacity:0.8;stroke:#1f77b4;stroke-opacity:0.8;\" x=\"118.536846\" xlink:href=\"#m9417efe7ec\" y=\"220.639121\"/>\n     <use style=\"fill:#1f77b4;fill-opacity:0.8;stroke:#1f77b4;stroke-opacity:0.8;\" x=\"129.164172\" xlink:href=\"#m9417efe7ec\" y=\"198.82417\"/>\n     <use style=\"fill:#1f77b4;fill-opacity:0.8;stroke:#1f77b4;stroke-opacity:0.8;\" x=\"139.791497\" xlink:href=\"#m9417efe7ec\" y=\"206.09582\"/>\n     <use style=\"fill:#1f77b4;fill-opacity:0.8;stroke:#1f77b4;stroke-opacity:0.8;\" x=\"100.824637\" xlink:href=\"#m9417efe7ec\" y=\"227.910771\"/>\n     <use style=\"fill:#1f77b4;fill-opacity:0.8;stroke:#1f77b4;stroke-opacity:0.8;\" x=\"125.62173\" xlink:href=\"#m9417efe7ec\" y=\"206.09582\"/>\n     <use style=\"fill:#1f77b4;fill-opacity:0.8;stroke:#1f77b4;stroke-opacity:0.8;\" x=\"168.131032\" xlink:href=\"#m9417efe7ec\" y=\"191.55252\"/>\n     <use style=\"fill:#1f77b4;fill-opacity:0.8;stroke:#1f77b4;stroke-opacity:0.8;\" x=\"72.485102\" xlink:href=\"#m9417efe7ec\" y=\"249.725721\"/>\n     <use style=\"fill:#1f77b4;fill-opacity:0.8;stroke:#1f77b4;stroke-opacity:0.8;\" x=\"267.319404\" xlink:href=\"#m9417efe7ec\" y=\"82.477767\"/>\n     <use style=\"fill:#1f77b4;fill-opacity:0.8;stroke:#1f77b4;stroke-opacity:0.8;\" x=\"210.640334\" xlink:href=\"#m9417efe7ec\" y=\"147.922619\"/>\n     <use style=\"fill:#1f77b4;fill-opacity:0.8;stroke:#1f77b4;stroke-opacity:0.8;\" x=\"164.58859\" xlink:href=\"#m9417efe7ec\" y=\"147.922619\"/>\n     <use style=\"fill:#1f77b4;fill-opacity:0.8;stroke:#1f77b4;stroke-opacity:0.8;\" x=\"288.574055\" xlink:href=\"#m9417efe7ec\" y=\"82.477767\"/>\n     <use style=\"fill:#1f77b4;fill-opacity:0.8;stroke:#1f77b4;stroke-opacity:0.8;\" x=\"196.470567\" xlink:href=\"#m9417efe7ec\" y=\"155.194269\"/>\n     <use style=\"fill:#1f77b4;fill-opacity:0.8;stroke:#1f77b4;stroke-opacity:0.8;\" x=\"189.385683\" xlink:href=\"#m9417efe7ec\" y=\"162.465919\"/>\n     <use style=\"fill:#1f77b4;fill-opacity:0.8;stroke:#1f77b4;stroke-opacity:0.8;\" x=\"132.706613\" xlink:href=\"#m9417efe7ec\" y=\"184.28087\"/>\n     <use style=\"fill:#1f77b4;fill-opacity:0.8;stroke:#1f77b4;stroke-opacity:0.8;\" x=\"47.688009\" xlink:href=\"#m9417efe7ec\" y=\"300.627273\"/>\n     <use style=\"fill:#1f77b4;fill-opacity:0.8;stroke:#1f77b4;stroke-opacity:0.8;\" x=\"58.315334\" xlink:href=\"#m9417efe7ec\" y=\"271.540672\"/>\n     <use style=\"fill:#1f77b4;fill-opacity:0.8;stroke:#1f77b4;stroke-opacity:0.8;\" x=\"47.688009\" xlink:href=\"#m9417efe7ec\" y=\"286.083972\"/>\n     <use style=\"fill:#1f77b4;fill-opacity:0.8;stroke:#1f77b4;stroke-opacity:0.8;\" x=\"114.994404\" xlink:href=\"#m9417efe7ec\" y=\"198.82417\"/>\n     <use style=\"fill:#1f77b4;fill-opacity:0.8;stroke:#1f77b4;stroke-opacity:0.8;\" x=\"118.536846\" xlink:href=\"#m9417efe7ec\" y=\"213.36747\"/>\n     <use style=\"fill:#1f77b4;fill-opacity:0.8;stroke:#1f77b4;stroke-opacity:0.8;\" x=\"72.485102\" xlink:href=\"#m9417efe7ec\" y=\"256.997372\"/>\n     <use style=\"fill:#1f77b4;fill-opacity:0.8;stroke:#1f77b4;stroke-opacity:0.8;\" x=\"104.367078\" xlink:href=\"#m9417efe7ec\" y=\"220.639121\"/>\n     <use style=\"fill:#1f77b4;fill-opacity:0.8;stroke:#1f77b4;stroke-opacity:0.8;\" x=\"178.758358\" xlink:href=\"#m9417efe7ec\" y=\"155.194269\"/>\n     <use style=\"fill:#1f77b4;fill-opacity:0.8;stroke:#1f77b4;stroke-opacity:0.8;\" x=\"323.998474\" xlink:href=\"#m9417efe7ec\" y=\"89.749417\"/>\n     <use style=\"fill:#1f77b4;fill-opacity:0.8;stroke:#1f77b4;stroke-opacity:0.8;\" x=\"150.418823\" xlink:href=\"#m9417efe7ec\" y=\"191.55252\"/>\n     <use style=\"fill:#1f77b4;fill-opacity:0.8;stroke:#1f77b4;stroke-opacity:0.8;\" x=\"150.418823\" xlink:href=\"#m9417efe7ec\" y=\"198.82417\"/>\n     <use style=\"fill:#1f77b4;fill-opacity:0.8;stroke:#1f77b4;stroke-opacity:0.8;\" x=\"100.824637\" xlink:href=\"#m9417efe7ec\" y=\"242.454071\"/>\n     <use style=\"fill:#1f77b4;fill-opacity:0.8;stroke:#1f77b4;stroke-opacity:0.8;\" x=\"143.333939\" xlink:href=\"#m9417efe7ec\" y=\"184.28087\"/>\n     <use style=\"fill:#1f77b4;fill-opacity:0.8;stroke:#1f77b4;stroke-opacity:0.8;\" x=\"207.097892\" xlink:href=\"#m9417efe7ec\" y=\"140.650969\"/>\n     <use style=\"fill:#1f77b4;fill-opacity:0.8;stroke:#1f77b4;stroke-opacity:0.8;\" x=\"136.249055\" xlink:href=\"#m9417efe7ec\" y=\"169.737569\"/>\n    </g>\n   </g>\n   <g id=\"PolyCollection_1\">\n    <path clip-path=\"url(#pedf5fb96ec)\" d=\"M 40.603125 263.574392 \nL 40.603125 277.071476 \nL 43.680398 274.508965 \nL 46.75767 271.924603 \nL 49.834943 269.339857 \nL 52.912216 266.812903 \nL 55.989489 264.227992 \nL 59.066761 261.688266 \nL 62.144034 259.243151 \nL 65.221307 256.76448 \nL 68.29858 254.202146 \nL 71.375852 251.704091 \nL 74.453125 249.18887 \nL 77.530398 246.67138 \nL 80.60767 244.107752 \nL 83.684943 241.568537 \nL 86.762216 239.041043 \nL 89.839489 236.623878 \nL 92.916761 234.214684 \nL 95.994034 231.760811 \nL 99.071307 229.280699 \nL 102.14858 226.778368 \nL 105.225852 224.377451 \nL 108.303125 221.99721 \nL 111.380398 219.570003 \nL 114.45767 217.154059 \nL 117.534943 214.805232 \nL 120.612216 212.447815 \nL 123.689489 210.140195 \nL 126.766761 207.836474 \nL 129.844034 205.445324 \nL 132.921307 203.138187 \nL 135.99858 200.857159 \nL 139.075852 198.612278 \nL 142.153125 196.349921 \nL 145.230398 194.016161 \nL 148.30767 191.68144 \nL 151.384943 189.408007 \nL 154.462216 187.080714 \nL 157.539489 184.810378 \nL 160.616761 182.565187 \nL 163.694034 180.299465 \nL 166.771307 178.094023 \nL 169.84858 175.97894 \nL 172.925852 173.661479 \nL 176.003125 171.527883 \nL 179.080398 169.262586 \nL 182.15767 167.023118 \nL 185.234943 164.826262 \nL 188.312216 162.633812 \nL 191.389489 160.460519 \nL 194.466761 158.278519 \nL 197.544034 156.06534 \nL 200.621307 153.861134 \nL 203.69858 151.585473 \nL 206.775852 149.444284 \nL 209.853125 147.363784 \nL 212.930398 145.185376 \nL 216.00767 143.015625 \nL 219.084943 140.84117 \nL 222.162216 138.709848 \nL 225.239489 136.582585 \nL 228.316761 134.394798 \nL 231.394034 132.206417 \nL 234.471307 130.016381 \nL 237.54858 127.825666 \nL 240.625852 125.637908 \nL 243.703125 123.456869 \nL 246.780398 121.262652 \nL 249.85767 119.088485 \nL 252.934943 116.969811 \nL 256.012216 114.898425 \nL 259.089489 112.700728 \nL 262.166761 110.507414 \nL 265.244034 108.405562 \nL 268.321307 106.246095 \nL 271.39858 104.07373 \nL 274.475852 101.935627 \nL 277.553125 99.824531 \nL 280.630398 97.680003 \nL 283.70767 95.460603 \nL 286.784943 93.339269 \nL 289.862216 91.204954 \nL 292.939489 89.022335 \nL 296.016761 86.822098 \nL 299.094034 84.705529 \nL 302.171307 82.548703 \nL 305.24858 80.386609 \nL 308.325852 78.224516 \nL 311.403125 76.062422 \nL 314.480398 73.900328 \nL 317.55767 71.737183 \nL 320.634943 69.573446 \nL 323.712216 67.409709 \nL 326.789489 65.245714 \nL 329.866761 63.080909 \nL 332.944034 60.916105 \nL 336.021307 58.7513 \nL 339.09858 56.586496 \nL 342.175852 54.421691 \nL 345.253125 52.256887 \nL 345.253125 21.172727 \nL 345.253125 21.172727 \nL 342.175852 23.757955 \nL 339.09858 26.348711 \nL 336.021307 28.92802 \nL 332.944034 31.512516 \nL 329.866761 34.097012 \nL 326.789489 36.681507 \nL 323.712216 39.249213 \nL 320.634943 41.807913 \nL 317.55767 44.364576 \nL 314.480398 46.915446 \nL 311.403125 49.466969 \nL 308.325852 52.04113 \nL 305.24858 54.59676 \nL 302.171307 57.152391 \nL 299.094034 59.708194 \nL 296.016761 62.264126 \nL 292.939489 64.820057 \nL 289.862216 67.375989 \nL 286.784943 69.931921 \nL 283.70767 72.489606 \nL 280.630398 75.052053 \nL 277.553125 77.6145 \nL 274.475852 80.181541 \nL 271.39858 82.780873 \nL 268.321307 85.383908 \nL 265.244034 87.929169 \nL 262.166761 90.466471 \nL 259.089489 93.003774 \nL 256.012216 95.552907 \nL 252.934943 98.115413 \nL 249.85767 100.674051 \nL 246.780398 103.216066 \nL 243.703125 105.774234 \nL 240.625852 108.332402 \nL 237.54858 110.839861 \nL 234.471307 113.381294 \nL 231.394034 115.935402 \nL 228.316761 118.490802 \nL 225.239489 121.004585 \nL 222.162216 123.544595 \nL 219.084943 126.087346 \nL 216.00767 128.633791 \nL 212.930398 131.219279 \nL 209.853125 133.825696 \nL 206.775852 136.381197 \nL 203.69858 138.936957 \nL 200.621307 141.503145 \nL 197.544034 144.047701 \nL 194.466761 146.629922 \nL 191.389489 149.1589 \nL 188.312216 151.682108 \nL 185.234943 154.154274 \nL 182.15767 156.607575 \nL 179.080398 159.141405 \nL 176.003125 161.67853 \nL 172.925852 164.208513 \nL 169.84858 166.726951 \nL 166.771307 169.18311 \nL 163.694034 171.685894 \nL 160.616761 174.176426 \nL 157.539489 176.695159 \nL 154.462216 179.121148 \nL 151.384943 181.605005 \nL 148.30767 184.027023 \nL 145.230398 186.497314 \nL 142.153125 188.899899 \nL 139.075852 191.292987 \nL 135.99858 193.737224 \nL 132.921307 196.20031 \nL 129.844034 198.647239 \nL 126.766761 200.949492 \nL 123.689489 203.279518 \nL 120.612216 205.647296 \nL 117.534943 207.998156 \nL 114.45767 210.266033 \nL 111.380398 212.571761 \nL 108.303125 214.851407 \nL 105.225852 217.151344 \nL 102.14858 219.386696 \nL 99.071307 221.593045 \nL 95.994034 223.841185 \nL 92.916761 226.032698 \nL 89.839489 228.327152 \nL 86.762216 230.562195 \nL 83.684943 232.729995 \nL 80.60767 234.872151 \nL 77.530398 237.157313 \nL 74.453125 239.43363 \nL 71.375852 241.546586 \nL 68.29858 243.74916 \nL 65.221307 245.883585 \nL 62.144034 248.103308 \nL 59.066761 250.315528 \nL 55.989489 252.547175 \nL 52.912216 254.734077 \nL 49.834943 256.93911 \nL 46.75767 259.178636 \nL 43.680398 261.363667 \nL 40.603125 263.574392 \nz\n\" style=\"fill:#1f77b4;fill-opacity:0.15;\"/>\n   </g>\n   <g id=\"matplotlib.axis_1\">\n    <g id=\"xtick_1\">\n     <g id=\"line2d_1\">\n      <defs>\n       <path d=\"M 0 0 \nL 0 3.5 \n\" id=\"mc5fb98b381\" style=\"stroke:#000000;stroke-width:0.8;\"/>\n      </defs>\n      <g>\n       <use style=\"stroke:#000000;stroke-width:0.8;\" x=\"68.94266\" xlink:href=\"#mc5fb98b381\" y=\"314.6\"/>\n      </g>\n     </g>\n     <g id=\"text_1\">\n      <!-- 10 -->\n      <defs>\n       <path d=\"M 12.40625 8.296875 \nL 28.515625 8.296875 \nL 28.515625 63.921875 \nL 10.984375 60.40625 \nL 10.984375 69.390625 \nL 28.421875 72.90625 \nL 38.28125 72.90625 \nL 38.28125 8.296875 \nL 54.390625 8.296875 \nL 54.390625 0 \nL 12.40625 0 \nz\n\" id=\"DejaVuSans-49\"/>\n       <path d=\"M 31.78125 66.40625 \nQ 24.171875 66.40625 20.328125 58.90625 \nQ 16.5 51.421875 16.5 36.375 \nQ 16.5 21.390625 20.328125 13.890625 \nQ 24.171875 6.390625 31.78125 6.390625 \nQ 39.453125 6.390625 43.28125 13.890625 \nQ 47.125 21.390625 47.125 36.375 \nQ 47.125 51.421875 43.28125 58.90625 \nQ 39.453125 66.40625 31.78125 66.40625 \nz\nM 31.78125 74.21875 \nQ 44.046875 74.21875 50.515625 64.515625 \nQ 56.984375 54.828125 56.984375 36.375 \nQ 56.984375 17.96875 50.515625 8.265625 \nQ 44.046875 -1.421875 31.78125 -1.421875 \nQ 19.53125 -1.421875 13.0625 8.265625 \nQ 6.59375 17.96875 6.59375 36.375 \nQ 6.59375 54.828125 13.0625 64.515625 \nQ 19.53125 74.21875 31.78125 74.21875 \nz\n\" id=\"DejaVuSans-48\"/>\n      </defs>\n      <g transform=\"translate(62.58016 329.198437)scale(0.1 -0.1)\">\n       <use xlink:href=\"#DejaVuSans-49\"/>\n       <use x=\"63.623047\" xlink:href=\"#DejaVuSans-48\"/>\n      </g>\n     </g>\n    </g>\n    <g id=\"xtick_2\">\n     <g id=\"line2d_2\">\n      <g>\n       <use style=\"stroke:#000000;stroke-width:0.8;\" x=\"104.367078\" xlink:href=\"#mc5fb98b381\" y=\"314.6\"/>\n      </g>\n     </g>\n     <g id=\"text_2\">\n      <!-- 20 -->\n      <defs>\n       <path d=\"M 19.1875 8.296875 \nL 53.609375 8.296875 \nL 53.609375 0 \nL 7.328125 0 \nL 7.328125 8.296875 \nQ 12.9375 14.109375 22.625 23.890625 \nQ 32.328125 33.6875 34.8125 36.53125 \nQ 39.546875 41.84375 41.421875 45.53125 \nQ 43.3125 49.21875 43.3125 52.78125 \nQ 43.3125 58.59375 39.234375 62.25 \nQ 35.15625 65.921875 28.609375 65.921875 \nQ 23.96875 65.921875 18.8125 64.3125 \nQ 13.671875 62.703125 7.8125 59.421875 \nL 7.8125 69.390625 \nQ 13.765625 71.78125 18.9375 73 \nQ 24.125 74.21875 28.421875 74.21875 \nQ 39.75 74.21875 46.484375 68.546875 \nQ 53.21875 62.890625 53.21875 53.421875 \nQ 53.21875 48.921875 51.53125 44.890625 \nQ 49.859375 40.875 45.40625 35.40625 \nQ 44.1875 33.984375 37.640625 27.21875 \nQ 31.109375 20.453125 19.1875 8.296875 \nz\n\" id=\"DejaVuSans-50\"/>\n      </defs>\n      <g transform=\"translate(98.004578 329.198437)scale(0.1 -0.1)\">\n       <use xlink:href=\"#DejaVuSans-50\"/>\n       <use x=\"63.623047\" xlink:href=\"#DejaVuSans-48\"/>\n      </g>\n     </g>\n    </g>\n    <g id=\"xtick_3\">\n     <g id=\"line2d_3\">\n      <g>\n       <use style=\"stroke:#000000;stroke-width:0.8;\" x=\"139.791497\" xlink:href=\"#mc5fb98b381\" y=\"314.6\"/>\n      </g>\n     </g>\n     <g id=\"text_3\">\n      <!-- 30 -->\n      <defs>\n       <path d=\"M 40.578125 39.3125 \nQ 47.65625 37.796875 51.625 33 \nQ 55.609375 28.21875 55.609375 21.1875 \nQ 55.609375 10.40625 48.1875 4.484375 \nQ 40.765625 -1.421875 27.09375 -1.421875 \nQ 22.515625 -1.421875 17.65625 -0.515625 \nQ 12.796875 0.390625 7.625 2.203125 \nL 7.625 11.71875 \nQ 11.71875 9.328125 16.59375 8.109375 \nQ 21.484375 6.890625 26.8125 6.890625 \nQ 36.078125 6.890625 40.9375 10.546875 \nQ 45.796875 14.203125 45.796875 21.1875 \nQ 45.796875 27.640625 41.28125 31.265625 \nQ 36.765625 34.90625 28.71875 34.90625 \nL 20.21875 34.90625 \nL 20.21875 43.015625 \nL 29.109375 43.015625 \nQ 36.375 43.015625 40.234375 45.921875 \nQ 44.09375 48.828125 44.09375 54.296875 \nQ 44.09375 59.90625 40.109375 62.90625 \nQ 36.140625 65.921875 28.71875 65.921875 \nQ 24.65625 65.921875 20.015625 65.03125 \nQ 15.375 64.15625 9.8125 62.3125 \nL 9.8125 71.09375 \nQ 15.4375 72.65625 20.34375 73.4375 \nQ 25.25 74.21875 29.59375 74.21875 \nQ 40.828125 74.21875 47.359375 69.109375 \nQ 53.90625 64.015625 53.90625 55.328125 \nQ 53.90625 49.265625 50.4375 45.09375 \nQ 46.96875 40.921875 40.578125 39.3125 \nz\n\" id=\"DejaVuSans-51\"/>\n      </defs>\n      <g transform=\"translate(133.428997 329.198437)scale(0.1 -0.1)\">\n       <use xlink:href=\"#DejaVuSans-51\"/>\n       <use x=\"63.623047\" xlink:href=\"#DejaVuSans-48\"/>\n      </g>\n     </g>\n    </g>\n    <g id=\"xtick_4\">\n     <g id=\"line2d_4\">\n      <g>\n       <use style=\"stroke:#000000;stroke-width:0.8;\" x=\"175.215916\" xlink:href=\"#mc5fb98b381\" y=\"314.6\"/>\n      </g>\n     </g>\n     <g id=\"text_4\">\n      <!-- 40 -->\n      <defs>\n       <path d=\"M 37.796875 64.3125 \nL 12.890625 25.390625 \nL 37.796875 25.390625 \nz\nM 35.203125 72.90625 \nL 47.609375 72.90625 \nL 47.609375 25.390625 \nL 58.015625 25.390625 \nL 58.015625 17.1875 \nL 47.609375 17.1875 \nL 47.609375 0 \nL 37.796875 0 \nL 37.796875 17.1875 \nL 4.890625 17.1875 \nL 4.890625 26.703125 \nz\n\" id=\"DejaVuSans-52\"/>\n      </defs>\n      <g transform=\"translate(168.853416 329.198437)scale(0.1 -0.1)\">\n       <use xlink:href=\"#DejaVuSans-52\"/>\n       <use x=\"63.623047\" xlink:href=\"#DejaVuSans-48\"/>\n      </g>\n     </g>\n    </g>\n    <g id=\"xtick_5\">\n     <g id=\"line2d_5\">\n      <g>\n       <use style=\"stroke:#000000;stroke-width:0.8;\" x=\"210.640334\" xlink:href=\"#mc5fb98b381\" y=\"314.6\"/>\n      </g>\n     </g>\n     <g id=\"text_5\">\n      <!-- 50 -->\n      <defs>\n       <path d=\"M 10.796875 72.90625 \nL 49.515625 72.90625 \nL 49.515625 64.59375 \nL 19.828125 64.59375 \nL 19.828125 46.734375 \nQ 21.96875 47.46875 24.109375 47.828125 \nQ 26.265625 48.1875 28.421875 48.1875 \nQ 40.625 48.1875 47.75 41.5 \nQ 54.890625 34.8125 54.890625 23.390625 \nQ 54.890625 11.625 47.5625 5.09375 \nQ 40.234375 -1.421875 26.90625 -1.421875 \nQ 22.3125 -1.421875 17.546875 -0.640625 \nQ 12.796875 0.140625 7.71875 1.703125 \nL 7.71875 11.625 \nQ 12.109375 9.234375 16.796875 8.0625 \nQ 21.484375 6.890625 26.703125 6.890625 \nQ 35.15625 6.890625 40.078125 11.328125 \nQ 45.015625 15.765625 45.015625 23.390625 \nQ 45.015625 31 40.078125 35.4375 \nQ 35.15625 39.890625 26.703125 39.890625 \nQ 22.75 39.890625 18.8125 39.015625 \nQ 14.890625 38.140625 10.796875 36.28125 \nz\n\" id=\"DejaVuSans-53\"/>\n      </defs>\n      <g transform=\"translate(204.277834 329.198437)scale(0.1 -0.1)\">\n       <use xlink:href=\"#DejaVuSans-53\"/>\n       <use x=\"63.623047\" xlink:href=\"#DejaVuSans-48\"/>\n      </g>\n     </g>\n    </g>\n    <g id=\"xtick_6\">\n     <g id=\"line2d_6\">\n      <g>\n       <use style=\"stroke:#000000;stroke-width:0.8;\" x=\"246.064753\" xlink:href=\"#mc5fb98b381\" y=\"314.6\"/>\n      </g>\n     </g>\n     <g id=\"text_6\">\n      <!-- 60 -->\n      <defs>\n       <path d=\"M 33.015625 40.375 \nQ 26.375 40.375 22.484375 35.828125 \nQ 18.609375 31.296875 18.609375 23.390625 \nQ 18.609375 15.53125 22.484375 10.953125 \nQ 26.375 6.390625 33.015625 6.390625 \nQ 39.65625 6.390625 43.53125 10.953125 \nQ 47.40625 15.53125 47.40625 23.390625 \nQ 47.40625 31.296875 43.53125 35.828125 \nQ 39.65625 40.375 33.015625 40.375 \nz\nM 52.59375 71.296875 \nL 52.59375 62.3125 \nQ 48.875 64.0625 45.09375 64.984375 \nQ 41.3125 65.921875 37.59375 65.921875 \nQ 27.828125 65.921875 22.671875 59.328125 \nQ 17.53125 52.734375 16.796875 39.40625 \nQ 19.671875 43.65625 24.015625 45.921875 \nQ 28.375 48.1875 33.59375 48.1875 \nQ 44.578125 48.1875 50.953125 41.515625 \nQ 57.328125 34.859375 57.328125 23.390625 \nQ 57.328125 12.15625 50.6875 5.359375 \nQ 44.046875 -1.421875 33.015625 -1.421875 \nQ 20.359375 -1.421875 13.671875 8.265625 \nQ 6.984375 17.96875 6.984375 36.375 \nQ 6.984375 53.65625 15.1875 63.9375 \nQ 23.390625 74.21875 37.203125 74.21875 \nQ 40.921875 74.21875 44.703125 73.484375 \nQ 48.484375 72.75 52.59375 71.296875 \nz\n\" id=\"DejaVuSans-54\"/>\n      </defs>\n      <g transform=\"translate(239.702253 329.198437)scale(0.1 -0.1)\">\n       <use xlink:href=\"#DejaVuSans-54\"/>\n       <use x=\"63.623047\" xlink:href=\"#DejaVuSans-48\"/>\n      </g>\n     </g>\n    </g>\n    <g id=\"xtick_7\">\n     <g id=\"line2d_7\">\n      <g>\n       <use style=\"stroke:#000000;stroke-width:0.8;\" x=\"281.489172\" xlink:href=\"#mc5fb98b381\" y=\"314.6\"/>\n      </g>\n     </g>\n     <g id=\"text_7\">\n      <!-- 70 -->\n      <defs>\n       <path d=\"M 8.203125 72.90625 \nL 55.078125 72.90625 \nL 55.078125 68.703125 \nL 28.609375 0 \nL 18.3125 0 \nL 43.21875 64.59375 \nL 8.203125 64.59375 \nz\n\" id=\"DejaVuSans-55\"/>\n      </defs>\n      <g transform=\"translate(275.126672 329.198437)scale(0.1 -0.1)\">\n       <use xlink:href=\"#DejaVuSans-55\"/>\n       <use x=\"63.623047\" xlink:href=\"#DejaVuSans-48\"/>\n      </g>\n     </g>\n    </g>\n    <g id=\"xtick_8\">\n     <g id=\"line2d_8\">\n      <g>\n       <use style=\"stroke:#000000;stroke-width:0.8;\" x=\"316.91359\" xlink:href=\"#mc5fb98b381\" y=\"314.6\"/>\n      </g>\n     </g>\n     <g id=\"text_8\">\n      <!-- 80 -->\n      <defs>\n       <path d=\"M 31.78125 34.625 \nQ 24.75 34.625 20.71875 30.859375 \nQ 16.703125 27.09375 16.703125 20.515625 \nQ 16.703125 13.921875 20.71875 10.15625 \nQ 24.75 6.390625 31.78125 6.390625 \nQ 38.8125 6.390625 42.859375 10.171875 \nQ 46.921875 13.96875 46.921875 20.515625 \nQ 46.921875 27.09375 42.890625 30.859375 \nQ 38.875 34.625 31.78125 34.625 \nz\nM 21.921875 38.8125 \nQ 15.578125 40.375 12.03125 44.71875 \nQ 8.5 49.078125 8.5 55.328125 \nQ 8.5 64.0625 14.71875 69.140625 \nQ 20.953125 74.21875 31.78125 74.21875 \nQ 42.671875 74.21875 48.875 69.140625 \nQ 55.078125 64.0625 55.078125 55.328125 \nQ 55.078125 49.078125 51.53125 44.71875 \nQ 48 40.375 41.703125 38.8125 \nQ 48.828125 37.15625 52.796875 32.3125 \nQ 56.78125 27.484375 56.78125 20.515625 \nQ 56.78125 9.90625 50.3125 4.234375 \nQ 43.84375 -1.421875 31.78125 -1.421875 \nQ 19.734375 -1.421875 13.25 4.234375 \nQ 6.78125 9.90625 6.78125 20.515625 \nQ 6.78125 27.484375 10.78125 32.3125 \nQ 14.796875 37.15625 21.921875 38.8125 \nz\nM 18.3125 54.390625 \nQ 18.3125 48.734375 21.84375 45.5625 \nQ 25.390625 42.390625 31.78125 42.390625 \nQ 38.140625 42.390625 41.71875 45.5625 \nQ 45.3125 48.734375 45.3125 54.390625 \nQ 45.3125 60.0625 41.71875 63.234375 \nQ 38.140625 66.40625 31.78125 66.40625 \nQ 25.390625 66.40625 21.84375 63.234375 \nQ 18.3125 60.0625 18.3125 54.390625 \nz\n\" id=\"DejaVuSans-56\"/>\n      </defs>\n      <g transform=\"translate(310.55109 329.198437)scale(0.1 -0.1)\">\n       <use xlink:href=\"#DejaVuSans-56\"/>\n       <use x=\"63.623047\" xlink:href=\"#DejaVuSans-48\"/>\n      </g>\n     </g>\n    </g>\n    <g id=\"text_9\">\n     <!-- Venue Number -->\n     <defs>\n      <path d=\"M 28.609375 0 \nL 0.78125 72.90625 \nL 11.078125 72.90625 \nL 34.1875 11.53125 \nL 57.328125 72.90625 \nL 67.578125 72.90625 \nL 39.796875 0 \nz\n\" id=\"DejaVuSans-86\"/>\n      <path d=\"M 56.203125 29.59375 \nL 56.203125 25.203125 \nL 14.890625 25.203125 \nQ 15.484375 15.921875 20.484375 11.0625 \nQ 25.484375 6.203125 34.421875 6.203125 \nQ 39.59375 6.203125 44.453125 7.46875 \nQ 49.3125 8.734375 54.109375 11.28125 \nL 54.109375 2.78125 \nQ 49.265625 0.734375 44.1875 -0.34375 \nQ 39.109375 -1.421875 33.890625 -1.421875 \nQ 20.796875 -1.421875 13.15625 6.1875 \nQ 5.515625 13.8125 5.515625 26.8125 \nQ 5.515625 40.234375 12.765625 48.109375 \nQ 20.015625 56 32.328125 56 \nQ 43.359375 56 49.78125 48.890625 \nQ 56.203125 41.796875 56.203125 29.59375 \nz\nM 47.21875 32.234375 \nQ 47.125 39.59375 43.09375 43.984375 \nQ 39.0625 48.390625 32.421875 48.390625 \nQ 24.90625 48.390625 20.390625 44.140625 \nQ 15.875 39.890625 15.1875 32.171875 \nz\n\" id=\"DejaVuSans-101\"/>\n      <path d=\"M 54.890625 33.015625 \nL 54.890625 0 \nL 45.90625 0 \nL 45.90625 32.71875 \nQ 45.90625 40.484375 42.875 44.328125 \nQ 39.84375 48.1875 33.796875 48.1875 \nQ 26.515625 48.1875 22.3125 43.546875 \nQ 18.109375 38.921875 18.109375 30.90625 \nL 18.109375 0 \nL 9.078125 0 \nL 9.078125 54.6875 \nL 18.109375 54.6875 \nL 18.109375 46.1875 \nQ 21.34375 51.125 25.703125 53.5625 \nQ 30.078125 56 35.796875 56 \nQ 45.21875 56 50.046875 50.171875 \nQ 54.890625 44.34375 54.890625 33.015625 \nz\n\" id=\"DejaVuSans-110\"/>\n      <path d=\"M 8.5 21.578125 \nL 8.5 54.6875 \nL 17.484375 54.6875 \nL 17.484375 21.921875 \nQ 17.484375 14.15625 20.5 10.265625 \nQ 23.53125 6.390625 29.59375 6.390625 \nQ 36.859375 6.390625 41.078125 11.03125 \nQ 45.3125 15.671875 45.3125 23.6875 \nL 45.3125 54.6875 \nL 54.296875 54.6875 \nL 54.296875 0 \nL 45.3125 0 \nL 45.3125 8.40625 \nQ 42.046875 3.421875 37.71875 1 \nQ 33.40625 -1.421875 27.6875 -1.421875 \nQ 18.265625 -1.421875 13.375 4.4375 \nQ 8.5 10.296875 8.5 21.578125 \nz\nM 31.109375 56 \nz\n\" id=\"DejaVuSans-117\"/>\n      <path id=\"DejaVuSans-32\"/>\n      <path d=\"M 9.8125 72.90625 \nL 23.09375 72.90625 \nL 55.421875 11.921875 \nL 55.421875 72.90625 \nL 64.984375 72.90625 \nL 64.984375 0 \nL 51.703125 0 \nL 19.390625 60.984375 \nL 19.390625 0 \nL 9.8125 0 \nz\n\" id=\"DejaVuSans-78\"/>\n      <path d=\"M 52 44.1875 \nQ 55.375 50.25 60.0625 53.125 \nQ 64.75 56 71.09375 56 \nQ 79.640625 56 84.28125 50.015625 \nQ 88.921875 44.046875 88.921875 33.015625 \nL 88.921875 0 \nL 79.890625 0 \nL 79.890625 32.71875 \nQ 79.890625 40.578125 77.09375 44.375 \nQ 74.3125 48.1875 68.609375 48.1875 \nQ 61.625 48.1875 57.5625 43.546875 \nQ 53.515625 38.921875 53.515625 30.90625 \nL 53.515625 0 \nL 44.484375 0 \nL 44.484375 32.71875 \nQ 44.484375 40.625 41.703125 44.40625 \nQ 38.921875 48.1875 33.109375 48.1875 \nQ 26.21875 48.1875 22.15625 43.53125 \nQ 18.109375 38.875 18.109375 30.90625 \nL 18.109375 0 \nL 9.078125 0 \nL 9.078125 54.6875 \nL 18.109375 54.6875 \nL 18.109375 46.1875 \nQ 21.1875 51.21875 25.484375 53.609375 \nQ 29.78125 56 35.6875 56 \nQ 41.65625 56 45.828125 52.96875 \nQ 50 49.953125 52 44.1875 \nz\n\" id=\"DejaVuSans-109\"/>\n      <path d=\"M 48.6875 27.296875 \nQ 48.6875 37.203125 44.609375 42.84375 \nQ 40.53125 48.484375 33.40625 48.484375 \nQ 26.265625 48.484375 22.1875 42.84375 \nQ 18.109375 37.203125 18.109375 27.296875 \nQ 18.109375 17.390625 22.1875 11.75 \nQ 26.265625 6.109375 33.40625 6.109375 \nQ 40.53125 6.109375 44.609375 11.75 \nQ 48.6875 17.390625 48.6875 27.296875 \nz\nM 18.109375 46.390625 \nQ 20.953125 51.265625 25.265625 53.625 \nQ 29.59375 56 35.59375 56 \nQ 45.5625 56 51.78125 48.09375 \nQ 58.015625 40.1875 58.015625 27.296875 \nQ 58.015625 14.40625 51.78125 6.484375 \nQ 45.5625 -1.421875 35.59375 -1.421875 \nQ 29.59375 -1.421875 25.265625 0.953125 \nQ 20.953125 3.328125 18.109375 8.203125 \nL 18.109375 0 \nL 9.078125 0 \nL 9.078125 75.984375 \nL 18.109375 75.984375 \nz\n\" id=\"DejaVuSans-98\"/>\n      <path d=\"M 41.109375 46.296875 \nQ 39.59375 47.171875 37.8125 47.578125 \nQ 36.03125 48 33.890625 48 \nQ 26.265625 48 22.1875 43.046875 \nQ 18.109375 38.09375 18.109375 28.8125 \nL 18.109375 0 \nL 9.078125 0 \nL 9.078125 54.6875 \nL 18.109375 54.6875 \nL 18.109375 46.1875 \nQ 20.953125 51.171875 25.484375 53.578125 \nQ 30.03125 56 36.53125 56 \nQ 37.453125 56 38.578125 55.875 \nQ 39.703125 55.765625 41.0625 55.515625 \nz\n\" id=\"DejaVuSans-114\"/>\n     </defs>\n     <g transform=\"translate(155.729687 342.876562)scale(0.1 -0.1)\">\n      <use xlink:href=\"#DejaVuSans-86\"/>\n      <use x=\"60.658203\" xlink:href=\"#DejaVuSans-101\"/>\n      <use x=\"122.181641\" xlink:href=\"#DejaVuSans-110\"/>\n      <use x=\"185.560547\" xlink:href=\"#DejaVuSans-117\"/>\n      <use x=\"248.939453\" xlink:href=\"#DejaVuSans-101\"/>\n      <use x=\"310.462891\" xlink:href=\"#DejaVuSans-32\"/>\n      <use x=\"342.25\" xlink:href=\"#DejaVuSans-78\"/>\n      <use x=\"417.054688\" xlink:href=\"#DejaVuSans-117\"/>\n      <use x=\"480.433594\" xlink:href=\"#DejaVuSans-109\"/>\n      <use x=\"577.845703\" xlink:href=\"#DejaVuSans-98\"/>\n      <use x=\"641.322266\" xlink:href=\"#DejaVuSans-101\"/>\n      <use x=\"702.845703\" xlink:href=\"#DejaVuSans-114\"/>\n     </g>\n    </g>\n   </g>\n   <g id=\"matplotlib.axis_2\">\n    <g id=\"ytick_1\">\n     <g id=\"line2d_9\">\n      <defs>\n       <path d=\"M 0 0 \nL -3.5 0 \n\" id=\"mced579cafd\" style=\"stroke:#000000;stroke-width:0.8;\"/>\n      </defs>\n      <g>\n       <use style=\"stroke:#000000;stroke-width:0.8;\" x=\"40.603125\" xlink:href=\"#mced579cafd\" y=\"278.812322\"/>\n      </g>\n     </g>\n     <g id=\"text_10\">\n      <!-- 5 -->\n      <g transform=\"translate(27.240625 282.611541)scale(0.1 -0.1)\">\n       <use xlink:href=\"#DejaVuSans-53\"/>\n      </g>\n     </g>\n    </g>\n    <g id=\"ytick_2\">\n     <g id=\"line2d_10\">\n      <g>\n       <use style=\"stroke:#000000;stroke-width:0.8;\" x=\"40.603125\" xlink:href=\"#mced579cafd\" y=\"242.454071\"/>\n      </g>\n     </g>\n     <g id=\"text_11\">\n      <!-- 10 -->\n      <g transform=\"translate(20.878125 246.25329)scale(0.1 -0.1)\">\n       <use xlink:href=\"#DejaVuSans-49\"/>\n       <use x=\"63.623047\" xlink:href=\"#DejaVuSans-48\"/>\n      </g>\n     </g>\n    </g>\n    <g id=\"ytick_3\">\n     <g id=\"line2d_11\">\n      <g>\n       <use style=\"stroke:#000000;stroke-width:0.8;\" x=\"40.603125\" xlink:href=\"#mced579cafd\" y=\"206.09582\"/>\n      </g>\n     </g>\n     <g id=\"text_12\">\n      <!-- 15 -->\n      <g transform=\"translate(20.878125 209.895039)scale(0.1 -0.1)\">\n       <use xlink:href=\"#DejaVuSans-49\"/>\n       <use x=\"63.623047\" xlink:href=\"#DejaVuSans-53\"/>\n      </g>\n     </g>\n    </g>\n    <g id=\"ytick_4\">\n     <g id=\"line2d_12\">\n      <g>\n       <use style=\"stroke:#000000;stroke-width:0.8;\" x=\"40.603125\" xlink:href=\"#mced579cafd\" y=\"169.737569\"/>\n      </g>\n     </g>\n     <g id=\"text_13\">\n      <!-- 20 -->\n      <g transform=\"translate(20.878125 173.536788)scale(0.1 -0.1)\">\n       <use xlink:href=\"#DejaVuSans-50\"/>\n       <use x=\"63.623047\" xlink:href=\"#DejaVuSans-48\"/>\n      </g>\n     </g>\n    </g>\n    <g id=\"ytick_5\">\n     <g id=\"line2d_13\">\n      <g>\n       <use style=\"stroke:#000000;stroke-width:0.8;\" x=\"40.603125\" xlink:href=\"#mced579cafd\" y=\"133.379318\"/>\n      </g>\n     </g>\n     <g id=\"text_14\">\n      <!-- 25 -->\n      <g transform=\"translate(20.878125 137.178537)scale(0.1 -0.1)\">\n       <use xlink:href=\"#DejaVuSans-50\"/>\n       <use x=\"63.623047\" xlink:href=\"#DejaVuSans-53\"/>\n      </g>\n     </g>\n    </g>\n    <g id=\"ytick_6\">\n     <g id=\"line2d_14\">\n      <g>\n       <use style=\"stroke:#000000;stroke-width:0.8;\" x=\"40.603125\" xlink:href=\"#mced579cafd\" y=\"97.021067\"/>\n      </g>\n     </g>\n     <g id=\"text_15\">\n      <!-- 30 -->\n      <g transform=\"translate(20.878125 100.820286)scale(0.1 -0.1)\">\n       <use xlink:href=\"#DejaVuSans-51\"/>\n       <use x=\"63.623047\" xlink:href=\"#DejaVuSans-48\"/>\n      </g>\n     </g>\n    </g>\n    <g id=\"ytick_7\">\n     <g id=\"line2d_15\">\n      <g>\n       <use style=\"stroke:#000000;stroke-width:0.8;\" x=\"40.603125\" xlink:href=\"#mced579cafd\" y=\"60.662816\"/>\n      </g>\n     </g>\n     <g id=\"text_16\">\n      <!-- 35 -->\n      <g transform=\"translate(20.878125 64.462035)scale(0.1 -0.1)\">\n       <use xlink:href=\"#DejaVuSans-51\"/>\n       <use x=\"63.623047\" xlink:href=\"#DejaVuSans-53\"/>\n      </g>\n     </g>\n    </g>\n    <g id=\"ytick_8\">\n     <g id=\"line2d_16\">\n      <g>\n       <use style=\"stroke:#000000;stroke-width:0.8;\" x=\"40.603125\" xlink:href=\"#mced579cafd\" y=\"24.304566\"/>\n      </g>\n     </g>\n     <g id=\"text_17\">\n      <!-- 40 -->\n      <g transform=\"translate(20.878125 28.103784)scale(0.1 -0.1)\">\n       <use xlink:href=\"#DejaVuSans-52\"/>\n       <use x=\"63.623047\" xlink:href=\"#DejaVuSans-48\"/>\n      </g>\n     </g>\n    </g>\n    <g id=\"text_18\">\n     <!-- Venue Category -->\n     <defs>\n      <path d=\"M 64.40625 67.28125 \nL 64.40625 56.890625 \nQ 59.421875 61.53125 53.78125 63.8125 \nQ 48.140625 66.109375 41.796875 66.109375 \nQ 29.296875 66.109375 22.65625 58.46875 \nQ 16.015625 50.828125 16.015625 36.375 \nQ 16.015625 21.96875 22.65625 14.328125 \nQ 29.296875 6.6875 41.796875 6.6875 \nQ 48.140625 6.6875 53.78125 8.984375 \nQ 59.421875 11.28125 64.40625 15.921875 \nL 64.40625 5.609375 \nQ 59.234375 2.09375 53.4375 0.328125 \nQ 47.65625 -1.421875 41.21875 -1.421875 \nQ 24.65625 -1.421875 15.125 8.703125 \nQ 5.609375 18.84375 5.609375 36.375 \nQ 5.609375 53.953125 15.125 64.078125 \nQ 24.65625 74.21875 41.21875 74.21875 \nQ 47.75 74.21875 53.53125 72.484375 \nQ 59.328125 70.75 64.40625 67.28125 \nz\n\" id=\"DejaVuSans-67\"/>\n      <path d=\"M 34.28125 27.484375 \nQ 23.390625 27.484375 19.1875 25 \nQ 14.984375 22.515625 14.984375 16.5 \nQ 14.984375 11.71875 18.140625 8.90625 \nQ 21.296875 6.109375 26.703125 6.109375 \nQ 34.1875 6.109375 38.703125 11.40625 \nQ 43.21875 16.703125 43.21875 25.484375 \nL 43.21875 27.484375 \nz\nM 52.203125 31.203125 \nL 52.203125 0 \nL 43.21875 0 \nL 43.21875 8.296875 \nQ 40.140625 3.328125 35.546875 0.953125 \nQ 30.953125 -1.421875 24.3125 -1.421875 \nQ 15.921875 -1.421875 10.953125 3.296875 \nQ 6 8.015625 6 15.921875 \nQ 6 25.140625 12.171875 29.828125 \nQ 18.359375 34.515625 30.609375 34.515625 \nL 43.21875 34.515625 \nL 43.21875 35.40625 \nQ 43.21875 41.609375 39.140625 45 \nQ 35.0625 48.390625 27.6875 48.390625 \nQ 23 48.390625 18.546875 47.265625 \nQ 14.109375 46.140625 10.015625 43.890625 \nL 10.015625 52.203125 \nQ 14.9375 54.109375 19.578125 55.046875 \nQ 24.21875 56 28.609375 56 \nQ 40.484375 56 46.34375 49.84375 \nQ 52.203125 43.703125 52.203125 31.203125 \nz\n\" id=\"DejaVuSans-97\"/>\n      <path d=\"M 18.3125 70.21875 \nL 18.3125 54.6875 \nL 36.8125 54.6875 \nL 36.8125 47.703125 \nL 18.3125 47.703125 \nL 18.3125 18.015625 \nQ 18.3125 11.328125 20.140625 9.421875 \nQ 21.96875 7.515625 27.59375 7.515625 \nL 36.8125 7.515625 \nL 36.8125 0 \nL 27.59375 0 \nQ 17.1875 0 13.234375 3.875 \nQ 9.28125 7.765625 9.28125 18.015625 \nL 9.28125 47.703125 \nL 2.6875 47.703125 \nL 2.6875 54.6875 \nL 9.28125 54.6875 \nL 9.28125 70.21875 \nz\n\" id=\"DejaVuSans-116\"/>\n      <path d=\"M 45.40625 27.984375 \nQ 45.40625 37.75 41.375 43.109375 \nQ 37.359375 48.484375 30.078125 48.484375 \nQ 22.859375 48.484375 18.828125 43.109375 \nQ 14.796875 37.75 14.796875 27.984375 \nQ 14.796875 18.265625 18.828125 12.890625 \nQ 22.859375 7.515625 30.078125 7.515625 \nQ 37.359375 7.515625 41.375 12.890625 \nQ 45.40625 18.265625 45.40625 27.984375 \nz\nM 54.390625 6.78125 \nQ 54.390625 -7.171875 48.1875 -13.984375 \nQ 42 -20.796875 29.203125 -20.796875 \nQ 24.46875 -20.796875 20.265625 -20.09375 \nQ 16.0625 -19.390625 12.109375 -17.921875 \nL 12.109375 -9.1875 \nQ 16.0625 -11.328125 19.921875 -12.34375 \nQ 23.78125 -13.375 27.78125 -13.375 \nQ 36.625 -13.375 41.015625 -8.765625 \nQ 45.40625 -4.15625 45.40625 5.171875 \nL 45.40625 9.625 \nQ 42.625 4.78125 38.28125 2.390625 \nQ 33.9375 0 27.875 0 \nQ 17.828125 0 11.671875 7.65625 \nQ 5.515625 15.328125 5.515625 27.984375 \nQ 5.515625 40.671875 11.671875 48.328125 \nQ 17.828125 56 27.875 56 \nQ 33.9375 56 38.28125 53.609375 \nQ 42.625 51.21875 45.40625 46.390625 \nL 45.40625 54.6875 \nL 54.390625 54.6875 \nz\n\" id=\"DejaVuSans-103\"/>\n      <path d=\"M 30.609375 48.390625 \nQ 23.390625 48.390625 19.1875 42.75 \nQ 14.984375 37.109375 14.984375 27.296875 \nQ 14.984375 17.484375 19.15625 11.84375 \nQ 23.34375 6.203125 30.609375 6.203125 \nQ 37.796875 6.203125 41.984375 11.859375 \nQ 46.1875 17.53125 46.1875 27.296875 \nQ 46.1875 37.015625 41.984375 42.703125 \nQ 37.796875 48.390625 30.609375 48.390625 \nz\nM 30.609375 56 \nQ 42.328125 56 49.015625 48.375 \nQ 55.71875 40.765625 55.71875 27.296875 \nQ 55.71875 13.875 49.015625 6.21875 \nQ 42.328125 -1.421875 30.609375 -1.421875 \nQ 18.84375 -1.421875 12.171875 6.21875 \nQ 5.515625 13.875 5.515625 27.296875 \nQ 5.515625 40.765625 12.171875 48.375 \nQ 18.84375 56 30.609375 56 \nz\n\" id=\"DejaVuSans-111\"/>\n      <path d=\"M 32.171875 -5.078125 \nQ 28.375 -14.84375 24.75 -17.8125 \nQ 21.140625 -20.796875 15.09375 -20.796875 \nL 7.90625 -20.796875 \nL 7.90625 -13.28125 \nL 13.1875 -13.28125 \nQ 16.890625 -13.28125 18.9375 -11.515625 \nQ 21 -9.765625 23.484375 -3.21875 \nL 25.09375 0.875 \nL 2.984375 54.6875 \nL 12.5 54.6875 \nL 29.59375 11.921875 \nL 46.6875 54.6875 \nL 56.203125 54.6875 \nz\n\" id=\"DejaVuSans-121\"/>\n     </defs>\n     <g transform=\"translate(14.798438 200.853125)rotate(-90)scale(0.1 -0.1)\">\n      <use xlink:href=\"#DejaVuSans-86\"/>\n      <use x=\"60.658203\" xlink:href=\"#DejaVuSans-101\"/>\n      <use x=\"122.181641\" xlink:href=\"#DejaVuSans-110\"/>\n      <use x=\"185.560547\" xlink:href=\"#DejaVuSans-117\"/>\n      <use x=\"248.939453\" xlink:href=\"#DejaVuSans-101\"/>\n      <use x=\"310.462891\" xlink:href=\"#DejaVuSans-32\"/>\n      <use x=\"342.25\" xlink:href=\"#DejaVuSans-67\"/>\n      <use x=\"412.074219\" xlink:href=\"#DejaVuSans-97\"/>\n      <use x=\"473.353516\" xlink:href=\"#DejaVuSans-116\"/>\n      <use x=\"512.5625\" xlink:href=\"#DejaVuSans-101\"/>\n      <use x=\"574.085938\" xlink:href=\"#DejaVuSans-103\"/>\n      <use x=\"637.5625\" xlink:href=\"#DejaVuSans-111\"/>\n      <use x=\"698.744141\" xlink:href=\"#DejaVuSans-114\"/>\n      <use x=\"739.857422\" xlink:href=\"#DejaVuSans-121\"/>\n     </g>\n    </g>\n   </g>\n   <g id=\"line2d_17\">\n    <path clip-path=\"url(#pedf5fb96ec)\" d=\"M 40.603125 270.35519 \nL 43.680398 268.004276 \nL 46.75767 265.653363 \nL 49.834943 263.30245 \nL 52.912216 260.951537 \nL 55.989489 258.600623 \nL 59.066761 256.24971 \nL 62.144034 253.898797 \nL 65.221307 251.547884 \nL 68.29858 249.196971 \nL 71.375852 246.846057 \nL 74.453125 244.495144 \nL 77.530398 242.144231 \nL 80.60767 239.793318 \nL 83.684943 237.442404 \nL 86.762216 235.091491 \nL 89.839489 232.740578 \nL 92.916761 230.389665 \nL 95.994034 228.038751 \nL 99.071307 225.687838 \nL 102.14858 223.336925 \nL 105.225852 220.986012 \nL 108.303125 218.635099 \nL 111.380398 216.284185 \nL 114.45767 213.933272 \nL 117.534943 211.582359 \nL 120.612216 209.231446 \nL 123.689489 206.880532 \nL 126.766761 204.529619 \nL 129.844034 202.178706 \nL 132.921307 199.827793 \nL 135.99858 197.476879 \nL 139.075852 195.125966 \nL 142.153125 192.775053 \nL 145.230398 190.42414 \nL 148.30767 188.073227 \nL 151.384943 185.722313 \nL 154.462216 183.3714 \nL 157.539489 181.020487 \nL 160.616761 178.669574 \nL 163.694034 176.31866 \nL 166.771307 173.967747 \nL 169.84858 171.616834 \nL 172.925852 169.265921 \nL 176.003125 166.915007 \nL 179.080398 164.564094 \nL 182.15767 162.213181 \nL 185.234943 159.862268 \nL 188.312216 157.511355 \nL 191.389489 155.160441 \nL 194.466761 152.809528 \nL 197.544034 150.458615 \nL 200.621307 148.107702 \nL 203.69858 145.756788 \nL 206.775852 143.405875 \nL 209.853125 141.054962 \nL 212.930398 138.704049 \nL 216.00767 136.353135 \nL 219.084943 134.002222 \nL 222.162216 131.651309 \nL 225.239489 129.300396 \nL 228.316761 126.949483 \nL 231.394034 124.598569 \nL 234.471307 122.247656 \nL 237.54858 119.896743 \nL 240.625852 117.54583 \nL 243.703125 115.194916 \nL 246.780398 112.844003 \nL 249.85767 110.49309 \nL 252.934943 108.142177 \nL 256.012216 105.791263 \nL 259.089489 103.44035 \nL 262.166761 101.089437 \nL 265.244034 98.738524 \nL 268.321307 96.387611 \nL 271.39858 94.036697 \nL 274.475852 91.685784 \nL 277.553125 89.334871 \nL 280.630398 86.983958 \nL 283.70767 84.633044 \nL 286.784943 82.282131 \nL 289.862216 79.931218 \nL 292.939489 77.580305 \nL 296.016761 75.229391 \nL 299.094034 72.878478 \nL 302.171307 70.527565 \nL 305.24858 68.176652 \nL 308.325852 65.825739 \nL 311.403125 63.474825 \nL 314.480398 61.123912 \nL 317.55767 58.772999 \nL 320.634943 56.422086 \nL 323.712216 54.071172 \nL 326.789489 51.720259 \nL 329.866761 49.369346 \nL 332.944034 47.018433 \nL 336.021307 44.667519 \nL 339.09858 42.316606 \nL 342.175852 39.965693 \nL 345.253125 37.61478 \n\" style=\"fill:none;stroke:#1f77b4;stroke-linecap:square;stroke-width:2.25;\"/>\n   </g>\n   <g id=\"patch_3\">\n    <path d=\"M 40.603125 314.6 \nL 40.603125 7.2 \n\" style=\"fill:none;stroke:#000000;stroke-linecap:square;stroke-linejoin:miter;stroke-width:0.8;\"/>\n   </g>\n   <g id=\"patch_4\">\n    <path d=\"M 40.603125 314.6 \nL 345.253125 314.6 \n\" style=\"fill:none;stroke:#000000;stroke-linecap:square;stroke-linejoin:miter;stroke-width:0.8;\"/>\n   </g>\n  </g>\n </g>\n <defs>\n  <clipPath id=\"pedf5fb96ec\">\n   <rect height=\"307.4\" width=\"304.65\" x=\"40.603125\" y=\"7.2\"/>\n  </clipPath>\n </defs>\n</svg>\n",
      "image/png": "[encoded data removed]"
     },
     "metadata": {
      "needs_background": "light"
     }
    }
   ],
   "source": [
    "\n",
    "Toronto_venues_grouped_2 = Toronto_venues_refined.groupby([\"Neighbourhood\",\"Venue Category\"]).count().reset_index()\n",
    "Toronto_venues_grouped_3 = Toronto_venues_grouped_2.groupby([\"Neighbourhood\"]).count().reset_index()\n",
    "\n",
    "Toronto_venues_cluster = pd.concat([Toronto_venues_grouped.set_index(\"Neighbourhood\")[\"Venue\"],Toronto_venues_grouped_3.set_index(\"Neighbourhood\")[\"Venue Category\"]], axis = 1) \n",
    "\n",
    "Toronto_venues_cluster = Toronto_venues_cluster.rename(columns={\"Venue\":\"Venue Number\"})\n",
    "import seaborn as sns\n",
    "import matplotlib as plt\n",
    "g = sns.lmplot(x=\"Venue Number\", y=\"Venue Category\", data=Toronto_venues_cluster)\n"
   ]
  },
  {
   "source": [
    "Conclusion: As seen in the figure, there are increasing diversity with the number of venues in each suburb, which almost show a linear relationship."
   ],
   "cell_type": "markdown",
   "metadata": {}
  },
  {
   "source": [
    "## Determine the location of the venue\n",
    "In this section we gonna:\n",
    "- check the characteristics of the restaurants in the top 10 areas (the ranking is based on the number of venues in the area)\n",
    "- Explore the slimilarity between these areas\n",
    "- Determine the most popular restaurant types in these areas."
   ],
   "cell_type": "markdown",
   "metadata": {}
  },
  {
   "cell_type": "code",
   "execution_count": 30,
   "metadata": {},
   "outputs": [
    {
     "output_type": "stream",
     "name": "stdout",
     "text": [
      "['Don Mills' 'Willowdale, Newtonbrook'\n \"Milliken, Agincourt North, Steeles East, L'Amoreaux East\" 'Agincourt'\n 'Mimico NW, The Queensway West, South of Bloor, Kingsway Park South West, Royal York South West'\n 'The Beaches' 'Canada Post Gateway Processing Centre'\n 'Humewood-Cedarvale' 'Alderwood, Long Branch' 'Studio District']\n"
     ]
    }
   ],
   "source": [
    "# K means clustering\n",
    "Top_suburbs = Toronto_venues_grouped.sort_values(by = [\"Venue\"], ascending = False).iloc[0:10,0].to_numpy()\n",
    "print(Top_suburbs)"
   ]
  },
  {
   "cell_type": "code",
   "execution_count": 32,
   "metadata": {},
   "outputs": [],
   "source": [
    "Top_suburbs_venue = pd.DataFrame(columns=Toronto_venues_refined.columns)\n",
    "\n",
    "for i in list(Top_suburbs):\n",
    "    Top_suburbs_venue = Top_suburbs_venue.append(Toronto_venues_refined.loc[Toronto_venues_refined[\"Neighbourhood\"] == i,:]) "
   ]
  },
  {
   "cell_type": "code",
   "execution_count": 33,
   "metadata": {},
   "outputs": [
    {
     "output_type": "execute_result",
     "data": {
      "text/plain": [
       "     Neighbourhood  American Restaurant  Asian Restaurant  BBQ Joint  \\\n",
       "1254     Don Mills                    0                 0          0   \n",
       "1255     Don Mills                    0                 0          0   \n",
       "1256     Don Mills                    0                 0          0   \n",
       "1257     Don Mills                    0                 0          0   \n",
       "1258     Don Mills                    0                 0          0   \n",
       "\n",
       "      Bagel Shop  Bakery  Bistro  Breakfast Spot  Burger Joint  Burrito Place  \\\n",
       "1254           0       0       0               0             0              0   \n",
       "1255           0       0       0               0             0              0   \n",
       "1256           0       0       0               0             0              0   \n",
       "1257           0       0       0               0             0              0   \n",
       "1258           1       0       0               0             0              0   \n",
       "\n",
       "      Café  Cantonese Restaurant  Caribbean Restaurant  Chinese Restaurant  \\\n",
       "1254     0                     0                     1                   0   \n",
       "1255     1                     0                     0                   0   \n",
       "1256     0                     0                     0                   0   \n",
       "1257     0                     0                     0                   0   \n",
       "1258     0                     0                     0                   0   \n",
       "\n",
       "      Comfort Food Restaurant  Cuban Restaurant  Deli / Bodega  \\\n",
       "1254                        0                 0              0   \n",
       "1255                        0                 0              0   \n",
       "1256                        0                 0              0   \n",
       "1257                        0                 0              0   \n",
       "1258                        0                 0              0   \n",
       "\n",
       "      Dim Sum Restaurant  Diner  Donut Shop  Dumpling Restaurant  \\\n",
       "1254                   0      0           0                    0   \n",
       "1255                   0      0           0                    0   \n",
       "1256                   0      0           0                    0   \n",
       "1257                   0      0           0                    0   \n",
       "1258                   0      0           0                    0   \n",
       "\n",
       "      Eastern European Restaurant  Ethiopian Restaurant  Falafel Restaurant  \\\n",
       "1254                            0                     0                   0   \n",
       "1255                            0                     0                   0   \n",
       "1256                            0                     0                   0   \n",
       "1257                            0                     0                   0   \n",
       "1258                            0                     0                   0   \n",
       "\n",
       "      Fast Food Restaurant  Filipino Restaurant  Fish & Chips Shop  Food  \\\n",
       "1254                     0                    0                  0     0   \n",
       "1255                     0                    0                  0     0   \n",
       "1256                     0                    0                  0     0   \n",
       "1257                     0                    0                  0     0   \n",
       "1258                     0                    0                  0     0   \n",
       "\n",
       "      Food Court  Food Stand  Food Truck  French Restaurant  \\\n",
       "1254           0           0           0                  0   \n",
       "1255           0           0           0                  0   \n",
       "1256           0           0           0                  0   \n",
       "1257           0           0           0                  0   \n",
       "1258           0           0           0                  0   \n",
       "\n",
       "      Fried Chicken Joint  Gastropub  Gluten-free Restaurant  \\\n",
       "1254                    0          0                       0   \n",
       "1255                    0          0                       0   \n",
       "1256                    0          0                       0   \n",
       "1257                    0          0                       0   \n",
       "1258                    0          0                       0   \n",
       "\n",
       "      Greek Restaurant  Hong Kong Restaurant  Hot Dog Joint  \\\n",
       "1254                 0                     0              0   \n",
       "1255                 0                     0              0   \n",
       "1256                 0                     0              0   \n",
       "1257                 0                     0              0   \n",
       "1258                 0                     0              0   \n",
       "\n",
       "      Indian Restaurant  Italian Restaurant  Japanese Restaurant  \\\n",
       "1254                  0                   0                    0   \n",
       "1255                  0                   0                    0   \n",
       "1256                  0                   1                    0   \n",
       "1257                  0                   0                    1   \n",
       "1258                  0                   0                    0   \n",
       "\n",
       "      Jewish Restaurant  Korean Restaurant  Latin American Restaurant  \\\n",
       "1254                  0                  0                          0   \n",
       "1255                  0                  0                          0   \n",
       "1256                  0                  0                          0   \n",
       "1257                  0                  0                          0   \n",
       "1258                  0                  0                          0   \n",
       "\n",
       "      Malay Restaurant  Mediterranean Restaurant  Mexican Restaurant  \\\n",
       "1254                 0                         0                   0   \n",
       "1255                 0                         0                   0   \n",
       "1256                 0                         0                   0   \n",
       "1257                 0                         0                   0   \n",
       "1258                 0                         0                   0   \n",
       "\n",
       "      Middle Eastern Restaurant  Moroccan Restaurant  New American Restaurant  \\\n",
       "1254                          0                    0                        0   \n",
       "1255                          0                    0                        0   \n",
       "1256                          0                    0                        0   \n",
       "1257                          0                    0                        0   \n",
       "1258                          0                    0                        0   \n",
       "\n",
       "      Noodle House  Pakistani Restaurant  Persian Restaurant  Pide Place  \\\n",
       "1254             0                     0                   0           0   \n",
       "1255             0                     0                   0           0   \n",
       "1256             0                     0                   0           0   \n",
       "1257             0                     0                   0           0   \n",
       "1258             0                     0                   0           0   \n",
       "\n",
       "      Pizza Place  Portuguese Restaurant  Ramen Restaurant  Restaurant  \\\n",
       "1254            0                      0                 0           0   \n",
       "1255            0                      0                 0           0   \n",
       "1256            0                      0                 0           0   \n",
       "1257            0                      0                 0           0   \n",
       "1258            0                      0                 0           0   \n",
       "\n",
       "      Salad Place  Sandwich Place  Seafood Restaurant  Shanghai Restaurant  \\\n",
       "1254            0               0                   0                    0   \n",
       "1255            0               0                   0                    0   \n",
       "1256            0               0                   0                    0   \n",
       "1257            0               0                   0                    0   \n",
       "1258            0               0                   0                    0   \n",
       "\n",
       "      Snack Place  South American Restaurant  Sri Lankan Restaurant  \\\n",
       "1254            0                          0                      0   \n",
       "1255            0                          0                      0   \n",
       "1256            0                          0                      0   \n",
       "1257            0                          0                      0   \n",
       "1258            0                          0                      0   \n",
       "\n",
       "      Steakhouse  Sushi Restaurant  Taco Place  Thai Restaurant  \\\n",
       "1254           0                 0           0                0   \n",
       "1255           0                 0           0                0   \n",
       "1256           0                 0           0                0   \n",
       "1257           0                 0           0                0   \n",
       "1258           0                 0           0                0   \n",
       "\n",
       "      Turkish Restaurant  Udon Restaurant  Vegetarian / Vegan Restaurant  \\\n",
       "1254                   0                0                              0   \n",
       "1255                   0                0                              0   \n",
       "1256                   0                0                              0   \n",
       "1257                   0                0                              0   \n",
       "1258                   0                0                              0   \n",
       "\n",
       "      Vietnamese Restaurant  Wings Joint  \n",
       "1254                      0            0  \n",
       "1255                      0            0  \n",
       "1256                      0            0  \n",
       "1257                      0            0  \n",
       "1258                      0            0  "
      ],
      "text/html": "<div>\n<style scoped>\n    .dataframe tbody tr th:only-of-type {\n        vertical-align: middle;\n    }\n\n    .dataframe tbody tr th {\n        vertical-align: top;\n    }\n\n    .dataframe thead th {\n        text-align: right;\n    }\n</style>\n<table border=\"1\" class=\"dataframe\">\n  <thead>\n    <tr style=\"text-align: right;\">\n      <th></th>\n      <th>Neighbourhood</th>\n      <th>American Restaurant</th>\n      <th>Asian Restaurant</th>\n      <th>BBQ Joint</th>\n      <th>Bagel Shop</th>\n      <th>Bakery</th>\n      <th>Bistro</th>\n      <th>Breakfast Spot</th>\n      <th>Burger Joint</th>\n      <th>Burrito Place</th>\n      <th>Café</th>\n      <th>Cantonese Restaurant</th>\n      <th>Caribbean Restaurant</th>\n      <th>Chinese Restaurant</th>\n      <th>Comfort Food Restaurant</th>\n      <th>Cuban Restaurant</th>\n      <th>Deli / Bodega</th>\n      <th>Dim Sum Restaurant</th>\n      <th>Diner</th>\n      <th>Donut Shop</th>\n      <th>Dumpling Restaurant</th>\n      <th>Eastern European Restaurant</th>\n      <th>Ethiopian Restaurant</th>\n      <th>Falafel Restaurant</th>\n      <th>Fast Food Restaurant</th>\n      <th>Filipino Restaurant</th>\n      <th>Fish &amp; Chips Shop</th>\n      <th>Food</th>\n      <th>Food Court</th>\n      <th>Food Stand</th>\n      <th>Food Truck</th>\n      <th>French Restaurant</th>\n      <th>Fried Chicken Joint</th>\n      <th>Gastropub</th>\n      <th>Gluten-free Restaurant</th>\n      <th>Greek Restaurant</th>\n      <th>Hong Kong Restaurant</th>\n      <th>Hot Dog Joint</th>\n      <th>Indian Restaurant</th>\n      <th>Italian Restaurant</th>\n      <th>Japanese Restaurant</th>\n      <th>Jewish Restaurant</th>\n      <th>Korean Restaurant</th>\n      <th>Latin American Restaurant</th>\n      <th>Malay Restaurant</th>\n      <th>Mediterranean Restaurant</th>\n      <th>Mexican Restaurant</th>\n      <th>Middle Eastern Restaurant</th>\n      <th>Moroccan Restaurant</th>\n      <th>New American Restaurant</th>\n      <th>Noodle House</th>\n      <th>Pakistani Restaurant</th>\n      <th>Persian Restaurant</th>\n      <th>Pide Place</th>\n      <th>Pizza Place</th>\n      <th>Portuguese Restaurant</th>\n      <th>Ramen Restaurant</th>\n      <th>Restaurant</th>\n      <th>Salad Place</th>\n      <th>Sandwich Place</th>\n      <th>Seafood Restaurant</th>\n      <th>Shanghai Restaurant</th>\n      <th>Snack Place</th>\n      <th>South American Restaurant</th>\n      <th>Sri Lankan Restaurant</th>\n      <th>Steakhouse</th>\n      <th>Sushi Restaurant</th>\n      <th>Taco Place</th>\n      <th>Thai Restaurant</th>\n      <th>Turkish Restaurant</th>\n      <th>Udon Restaurant</th>\n      <th>Vegetarian / Vegan Restaurant</th>\n      <th>Vietnamese Restaurant</th>\n      <th>Wings Joint</th>\n    </tr>\n  </thead>\n  <tbody>\n    <tr>\n      <th>1254</th>\n      <td>Don Mills</td>\n      <td>0</td>\n      <td>0</td>\n      <td>0</td>\n      <td>0</td>\n      <td>0</td>\n      <td>0</td>\n      <td>0</td>\n      <td>0</td>\n      <td>0</td>\n      <td>0</td>\n      <td>0</td>\n      <td>1</td>\n      <td>0</td>\n      <td>0</td>\n      <td>0</td>\n      <td>0</td>\n      <td>0</td>\n      <td>0</td>\n      <td>0</td>\n      <td>0</td>\n      <td>0</td>\n      <td>0</td>\n      <td>0</td>\n      <td>0</td>\n      <td>0</td>\n      <td>0</td>\n      <td>0</td>\n      <td>0</td>\n      <td>0</td>\n      <td>0</td>\n      <td>0</td>\n      <td>0</td>\n      <td>0</td>\n      <td>0</td>\n      <td>0</td>\n      <td>0</td>\n      <td>0</td>\n      <td>0</td>\n      <td>0</td>\n      <td>0</td>\n      <td>0</td>\n      <td>0</td>\n      <td>0</td>\n      <td>0</td>\n      <td>0</td>\n      <td>0</td>\n      <td>0</td>\n      <td>0</td>\n      <td>0</td>\n      <td>0</td>\n      <td>0</td>\n      <td>0</td>\n      <td>0</td>\n      <td>0</td>\n      <td>0</td>\n      <td>0</td>\n      <td>0</td>\n      <td>0</td>\n      <td>0</td>\n      <td>0</td>\n      <td>0</td>\n      <td>0</td>\n      <td>0</td>\n      <td>0</td>\n      <td>0</td>\n      <td>0</td>\n      <td>0</td>\n      <td>0</td>\n      <td>0</td>\n      <td>0</td>\n      <td>0</td>\n      <td>0</td>\n      <td>0</td>\n    </tr>\n    <tr>\n      <th>1255</th>\n      <td>Don Mills</td>\n      <td>0</td>\n      <td>0</td>\n      <td>0</td>\n      <td>0</td>\n      <td>0</td>\n      <td>0</td>\n      <td>0</td>\n      <td>0</td>\n      <td>0</td>\n      <td>1</td>\n      <td>0</td>\n      <td>0</td>\n      <td>0</td>\n      <td>0</td>\n      <td>0</td>\n      <td>0</td>\n      <td>0</td>\n      <td>0</td>\n      <td>0</td>\n      <td>0</td>\n      <td>0</td>\n      <td>0</td>\n      <td>0</td>\n      <td>0</td>\n      <td>0</td>\n      <td>0</td>\n      <td>0</td>\n      <td>0</td>\n      <td>0</td>\n      <td>0</td>\n      <td>0</td>\n      <td>0</td>\n      <td>0</td>\n      <td>0</td>\n      <td>0</td>\n      <td>0</td>\n      <td>0</td>\n      <td>0</td>\n      <td>0</td>\n      <td>0</td>\n      <td>0</td>\n      <td>0</td>\n      <td>0</td>\n      <td>0</td>\n      <td>0</td>\n      <td>0</td>\n      <td>0</td>\n      <td>0</td>\n      <td>0</td>\n      <td>0</td>\n      <td>0</td>\n      <td>0</td>\n      <td>0</td>\n      <td>0</td>\n      <td>0</td>\n      <td>0</td>\n      <td>0</td>\n      <td>0</td>\n      <td>0</td>\n      <td>0</td>\n      <td>0</td>\n      <td>0</td>\n      <td>0</td>\n      <td>0</td>\n      <td>0</td>\n      <td>0</td>\n      <td>0</td>\n      <td>0</td>\n      <td>0</td>\n      <td>0</td>\n      <td>0</td>\n      <td>0</td>\n      <td>0</td>\n    </tr>\n    <tr>\n      <th>1256</th>\n      <td>Don Mills</td>\n      <td>0</td>\n      <td>0</td>\n      <td>0</td>\n      <td>0</td>\n      <td>0</td>\n      <td>0</td>\n      <td>0</td>\n      <td>0</td>\n      <td>0</td>\n      <td>0</td>\n      <td>0</td>\n      <td>0</td>\n      <td>0</td>\n      <td>0</td>\n      <td>0</td>\n      <td>0</td>\n      <td>0</td>\n      <td>0</td>\n      <td>0</td>\n      <td>0</td>\n      <td>0</td>\n      <td>0</td>\n      <td>0</td>\n      <td>0</td>\n      <td>0</td>\n      <td>0</td>\n      <td>0</td>\n      <td>0</td>\n      <td>0</td>\n      <td>0</td>\n      <td>0</td>\n      <td>0</td>\n      <td>0</td>\n      <td>0</td>\n      <td>0</td>\n      <td>0</td>\n      <td>0</td>\n      <td>0</td>\n      <td>1</td>\n      <td>0</td>\n      <td>0</td>\n      <td>0</td>\n      <td>0</td>\n      <td>0</td>\n      <td>0</td>\n      <td>0</td>\n      <td>0</td>\n      <td>0</td>\n      <td>0</td>\n      <td>0</td>\n      <td>0</td>\n      <td>0</td>\n      <td>0</td>\n      <td>0</td>\n      <td>0</td>\n      <td>0</td>\n      <td>0</td>\n      <td>0</td>\n      <td>0</td>\n      <td>0</td>\n      <td>0</td>\n      <td>0</td>\n      <td>0</td>\n      <td>0</td>\n      <td>0</td>\n      <td>0</td>\n      <td>0</td>\n      <td>0</td>\n      <td>0</td>\n      <td>0</td>\n      <td>0</td>\n      <td>0</td>\n      <td>0</td>\n    </tr>\n    <tr>\n      <th>1257</th>\n      <td>Don Mills</td>\n      <td>0</td>\n      <td>0</td>\n      <td>0</td>\n      <td>0</td>\n      <td>0</td>\n      <td>0</td>\n      <td>0</td>\n      <td>0</td>\n      <td>0</td>\n      <td>0</td>\n      <td>0</td>\n      <td>0</td>\n      <td>0</td>\n      <td>0</td>\n      <td>0</td>\n      <td>0</td>\n      <td>0</td>\n      <td>0</td>\n      <td>0</td>\n      <td>0</td>\n      <td>0</td>\n      <td>0</td>\n      <td>0</td>\n      <td>0</td>\n      <td>0</td>\n      <td>0</td>\n      <td>0</td>\n      <td>0</td>\n      <td>0</td>\n      <td>0</td>\n      <td>0</td>\n      <td>0</td>\n      <td>0</td>\n      <td>0</td>\n      <td>0</td>\n      <td>0</td>\n      <td>0</td>\n      <td>0</td>\n      <td>0</td>\n      <td>1</td>\n      <td>0</td>\n      <td>0</td>\n      <td>0</td>\n      <td>0</td>\n      <td>0</td>\n      <td>0</td>\n      <td>0</td>\n      <td>0</td>\n      <td>0</td>\n      <td>0</td>\n      <td>0</td>\n      <td>0</td>\n      <td>0</td>\n      <td>0</td>\n      <td>0</td>\n      <td>0</td>\n      <td>0</td>\n      <td>0</td>\n      <td>0</td>\n      <td>0</td>\n      <td>0</td>\n      <td>0</td>\n      <td>0</td>\n      <td>0</td>\n      <td>0</td>\n      <td>0</td>\n      <td>0</td>\n      <td>0</td>\n      <td>0</td>\n      <td>0</td>\n      <td>0</td>\n      <td>0</td>\n      <td>0</td>\n    </tr>\n    <tr>\n      <th>1258</th>\n      <td>Don Mills</td>\n      <td>0</td>\n      <td>0</td>\n      <td>0</td>\n      <td>1</td>\n      <td>0</td>\n      <td>0</td>\n      <td>0</td>\n      <td>0</td>\n      <td>0</td>\n      <td>0</td>\n      <td>0</td>\n      <td>0</td>\n      <td>0</td>\n      <td>0</td>\n      <td>0</td>\n      <td>0</td>\n      <td>0</td>\n      <td>0</td>\n      <td>0</td>\n      <td>0</td>\n      <td>0</td>\n      <td>0</td>\n      <td>0</td>\n      <td>0</td>\n      <td>0</td>\n      <td>0</td>\n      <td>0</td>\n      <td>0</td>\n      <td>0</td>\n      <td>0</td>\n      <td>0</td>\n      <td>0</td>\n      <td>0</td>\n      <td>0</td>\n      <td>0</td>\n      <td>0</td>\n      <td>0</td>\n      <td>0</td>\n      <td>0</td>\n      <td>0</td>\n      <td>0</td>\n      <td>0</td>\n      <td>0</td>\n      <td>0</td>\n      <td>0</td>\n      <td>0</td>\n      <td>0</td>\n      <td>0</td>\n      <td>0</td>\n      <td>0</td>\n      <td>0</td>\n      <td>0</td>\n      <td>0</td>\n      <td>0</td>\n      <td>0</td>\n      <td>0</td>\n      <td>0</td>\n      <td>0</td>\n      <td>0</td>\n      <td>0</td>\n      <td>0</td>\n      <td>0</td>\n      <td>0</td>\n      <td>0</td>\n      <td>0</td>\n      <td>0</td>\n      <td>0</td>\n      <td>0</td>\n      <td>0</td>\n      <td>0</td>\n      <td>0</td>\n      <td>0</td>\n      <td>0</td>\n    </tr>\n  </tbody>\n</table>\n</div>"
     },
     "metadata": {},
     "execution_count": 33
    }
   ],
   "source": [
    "# one hot encoding\n",
    "Top_suburbs_venue_onehot = pd.get_dummies(Top_suburbs_venue[['Venue Category']], prefix=\"\", prefix_sep=\"\")\n",
    "\n",
    "# add Neighbourhood column back to dataframe\n",
    "Top_suburbs_venue_onehot['Neighbourhood'] = Top_suburbs_venue['Neighbourhood']\n",
    "\n",
    "# move Neighbourhood column to the first column\n",
    "fixed_columns = [Top_suburbs_venue_onehot.columns[-1]] + list(Top_suburbs_venue_onehot.columns[:-1])\n",
    "Top_suburbs_venue_onehot = Top_suburbs_venue_onehot[fixed_columns]\n",
    "\n",
    "Top_suburbs_venue_onehot.head()"
   ]
  },
  {
   "cell_type": "code",
   "execution_count": 38,
   "metadata": {},
   "outputs": [
    {
     "output_type": "stream",
     "name": "stdout",
     "text": [
      "----Agincourt----\n                venue  freq\n0  Chinese Restaurant  0.21\n1          Restaurant  0.10\n2              Bakery  0.06\n3         Pizza Place  0.05\n\n\n----Alderwood, Long Branch----\n                  venue  freq\n0            Restaurant  0.10\n1           Pizza Place  0.10\n2  Fast Food Restaurant  0.07\n3        Sandwich Place  0.07\n\n\n----Canada Post Gateway Processing Centre----\n                       venue  freq\n0                 Restaurant  0.10\n1             Sandwich Place  0.07\n2  Middle Eastern Restaurant  0.07\n3       Fast Food Restaurant  0.06\n\n\n----Don Mills----\n                 venue  freq\n0  Japanese Restaurant  0.10\n1          Pizza Place  0.09\n2           Restaurant  0.08\n3                 Café  0.07\n\n\n----Humewood-Cedarvale----\n              venue  freq\n0       Pizza Place  0.09\n1        Restaurant  0.07\n2  Sushi Restaurant  0.06\n3            Bakery  0.06\n\n\n----Milliken, Agincourt North, Steeles East, L'Amoreaux East----\n                   venue  freq\n0     Chinese Restaurant  0.28\n1              BBQ Joint  0.07\n2    Japanese Restaurant  0.07\n3  Vietnamese Restaurant  0.06\n\n\n----Mimico NW, The Queensway West, South of Bloor, Kingsway Park South West, Royal York South West----\n                  venue  freq\n0            Restaurant  0.14\n1        Sandwich Place  0.11\n2  Fast Food Restaurant  0.09\n3                Bakery  0.05\n\n\n----Studio District----\n                   venue  freq\n0  Vietnamese Restaurant  0.09\n1                 Bakery  0.09\n2                   Café  0.08\n3    American Restaurant  0.06\n\n\n----The Beaches----\n            venue  freq\n0     Pizza Place  0.10\n1          Bakery  0.08\n2  Sandwich Place  0.08\n3  Breakfast Spot  0.06\n\n\n----Willowdale, Newtonbrook----\n                       venue  freq\n0          Korean Restaurant  0.23\n1  Middle Eastern Restaurant  0.07\n2                 Restaurant  0.06\n3                       Café  0.06\n\n\n"
     ]
    }
   ],
   "source": [
    "Top_suburbs_venue_grouped = Top_suburbs_venue_onehot.groupby('Neighbourhood').mean().reset_index()\n",
    "# check the top 4 venues appeared in each neighbouhood.\n",
    "num_top_venues = 4\n",
    "\n",
    "for n in Top_suburbs_venue_grouped['Neighbourhood']:\n",
    "    print(\"----\"+n+\"----\")\n",
    "    temp = Top_suburbs_venue_grouped[Top_suburbs_venue_grouped['Neighbourhood'] == n].T.reset_index()\n",
    "    temp.columns = ['venue','freq']\n",
    "    temp = temp.iloc[1:]\n",
    "    temp['freq'] = temp['freq'].astype(float)\n",
    "    temp = temp.round({'freq': 2})\n",
    "    print(temp.sort_values('freq', ascending=False).reset_index(drop=True).head(num_top_venues))\n",
    "    print('\\n')"
   ]
  },
  {
   "cell_type": "code",
   "execution_count": 64,
   "metadata": {},
   "outputs": [
    {
     "output_type": "execute_result",
     "data": {
      "text/plain": [
       "                           Neighbourhood 1st Most Common Venue  \\\n",
       "0                              Agincourt    Chinese Restaurant   \n",
       "1                 Alderwood, Long Branch           Pizza Place   \n",
       "2  Canada Post Gateway Processing Centre            Restaurant   \n",
       "3                              Don Mills   Japanese Restaurant   \n",
       "4                     Humewood-Cedarvale           Pizza Place   \n",
       "\n",
       "       2nd Most Common Venue 3rd Most Common Venue 4th Most Common Venue  \n",
       "0                 Restaurant                Bakery           Pizza Place  \n",
       "1                 Restaurant  Fast Food Restaurant        Sandwich Place  \n",
       "2  Middle Eastern Restaurant        Sandwich Place    Chinese Restaurant  \n",
       "3                Pizza Place            Restaurant                  Café  \n",
       "4                 Restaurant    Italian Restaurant      Sushi Restaurant  "
      ],
      "text/html": "<div>\n<style scoped>\n    .dataframe tbody tr th:only-of-type {\n        vertical-align: middle;\n    }\n\n    .dataframe tbody tr th {\n        vertical-align: top;\n    }\n\n    .dataframe thead th {\n        text-align: right;\n    }\n</style>\n<table border=\"1\" class=\"dataframe\">\n  <thead>\n    <tr style=\"text-align: right;\">\n      <th></th>\n      <th>Neighbourhood</th>\n      <th>1st Most Common Venue</th>\n      <th>2nd Most Common Venue</th>\n      <th>3rd Most Common Venue</th>\n      <th>4th Most Common Venue</th>\n    </tr>\n  </thead>\n  <tbody>\n    <tr>\n      <th>0</th>\n      <td>Agincourt</td>\n      <td>Chinese Restaurant</td>\n      <td>Restaurant</td>\n      <td>Bakery</td>\n      <td>Pizza Place</td>\n    </tr>\n    <tr>\n      <th>1</th>\n      <td>Alderwood, Long Branch</td>\n      <td>Pizza Place</td>\n      <td>Restaurant</td>\n      <td>Fast Food Restaurant</td>\n      <td>Sandwich Place</td>\n    </tr>\n    <tr>\n      <th>2</th>\n      <td>Canada Post Gateway Processing Centre</td>\n      <td>Restaurant</td>\n      <td>Middle Eastern Restaurant</td>\n      <td>Sandwich Place</td>\n      <td>Chinese Restaurant</td>\n    </tr>\n    <tr>\n      <th>3</th>\n      <td>Don Mills</td>\n      <td>Japanese Restaurant</td>\n      <td>Pizza Place</td>\n      <td>Restaurant</td>\n      <td>Café</td>\n    </tr>\n    <tr>\n      <th>4</th>\n      <td>Humewood-Cedarvale</td>\n      <td>Pizza Place</td>\n      <td>Restaurant</td>\n      <td>Italian Restaurant</td>\n      <td>Sushi Restaurant</td>\n    </tr>\n  </tbody>\n</table>\n</div>"
     },
     "metadata": {},
     "execution_count": 64
    }
   ],
   "source": [
    "# Stored in a dataframe format\n",
    "def return_most_common_venues(row, num_top_venues):\n",
    "    row_categories = row.iloc[1:]\n",
    "    row_categories_sorted = row_categories.sort_values(ascending=False)\n",
    "    \n",
    "    return row_categories_sorted.index.values[0:num_top_venues]\n",
    "\n",
    "indicators = ['st', 'nd', 'rd']\n",
    "\n",
    "# create columns according to number of top venues\n",
    "columns = ['Neighbourhood']\n",
    "for ind in np.arange(num_top_venues):\n",
    "    try:\n",
    "        columns.append('{}{} Most Common Venue'.format(ind+1, indicators[ind]))\n",
    "    except:\n",
    "        columns.append('{}th Most Common Venue'.format(ind+1))\n",
    "\n",
    "# create a new dataframe\n",
    "Neighbourhoods_venues_sorted = pd.DataFrame(columns=columns)\n",
    "Neighbourhoods_venues_sorted['Neighbourhood'] = Top_suburbs_venue_grouped['Neighbourhood']\n",
    "\n",
    "for ind in np.arange(Top_suburbs_venue_grouped.shape[0]):\n",
    "    Neighbourhoods_venues_sorted.iloc[ind, 1:] = return_most_common_venues(Top_suburbs_venue_grouped.iloc[ind, :], num_top_venues)\n",
    "\n",
    "Neighbourhoods_venues_sorted.head()\n"
   ]
  },
  {
   "cell_type": "code",
   "execution_count": 65,
   "metadata": {},
   "outputs": [
    {
     "output_type": "stream",
     "name": "stdout",
     "text": [
      "[2 0 0 0 0 2 0 0 0 1]\n"
     ]
    },
    {
     "output_type": "execute_result",
     "data": {
      "text/plain": [
       "    Unnamed: 0 Postal Code                                      Neighbourhood  \\\n",
       "12          12         M1S                                          Agincourt   \n",
       "14          14         M1V  Milliken, Agincourt North, Steeles East, L'Amo...   \n",
       "21          21         M2M                            Willowdale, Newtonbrook   \n",
       "26          26         M3B                                          Don Mills   \n",
       "27          27         M3C                                          Don Mills   \n",
       "\n",
       "        Borough   Latitude  Longitude  Cluster Labels 1st Most Common Venue  \\\n",
       "12  Scarborough  43.794200 -79.262029               2    Chinese Restaurant   \n",
       "14  Scarborough  43.815252 -79.284577               2    Chinese Restaurant   \n",
       "21   North York  43.789053 -79.408493               1     Korean Restaurant   \n",
       "26   North York  43.745906 -79.352188               0   Japanese Restaurant   \n",
       "27   North York  43.725900 -79.340923               0   Japanese Restaurant   \n",
       "\n",
       "        2nd Most Common Venue 3rd Most Common Venue 4th Most Common Venue  \n",
       "12                 Restaurant                Bakery           Pizza Place  \n",
       "14                  BBQ Joint   Japanese Restaurant     Korean Restaurant  \n",
       "21  Middle Eastern Restaurant            Restaurant                  Café  \n",
       "26                Pizza Place            Restaurant                  Café  \n",
       "27                Pizza Place            Restaurant                  Café  "
      ],
      "text/html": "<div>\n<style scoped>\n    .dataframe tbody tr th:only-of-type {\n        vertical-align: middle;\n    }\n\n    .dataframe tbody tr th {\n        vertical-align: top;\n    }\n\n    .dataframe thead th {\n        text-align: right;\n    }\n</style>\n<table border=\"1\" class=\"dataframe\">\n  <thead>\n    <tr style=\"text-align: right;\">\n      <th></th>\n      <th>Unnamed: 0</th>\n      <th>Postal Code</th>\n      <th>Neighbourhood</th>\n      <th>Borough</th>\n      <th>Latitude</th>\n      <th>Longitude</th>\n      <th>Cluster Labels</th>\n      <th>1st Most Common Venue</th>\n      <th>2nd Most Common Venue</th>\n      <th>3rd Most Common Venue</th>\n      <th>4th Most Common Venue</th>\n    </tr>\n  </thead>\n  <tbody>\n    <tr>\n      <th>12</th>\n      <td>12</td>\n      <td>M1S</td>\n      <td>Agincourt</td>\n      <td>Scarborough</td>\n      <td>43.794200</td>\n      <td>-79.262029</td>\n      <td>2</td>\n      <td>Chinese Restaurant</td>\n      <td>Restaurant</td>\n      <td>Bakery</td>\n      <td>Pizza Place</td>\n    </tr>\n    <tr>\n      <th>14</th>\n      <td>14</td>\n      <td>M1V</td>\n      <td>Milliken, Agincourt North, Steeles East, L'Amo...</td>\n      <td>Scarborough</td>\n      <td>43.815252</td>\n      <td>-79.284577</td>\n      <td>2</td>\n      <td>Chinese Restaurant</td>\n      <td>BBQ Joint</td>\n      <td>Japanese Restaurant</td>\n      <td>Korean Restaurant</td>\n    </tr>\n    <tr>\n      <th>21</th>\n      <td>21</td>\n      <td>M2M</td>\n      <td>Willowdale, Newtonbrook</td>\n      <td>North York</td>\n      <td>43.789053</td>\n      <td>-79.408493</td>\n      <td>1</td>\n      <td>Korean Restaurant</td>\n      <td>Middle Eastern Restaurant</td>\n      <td>Restaurant</td>\n      <td>Café</td>\n    </tr>\n    <tr>\n      <th>26</th>\n      <td>26</td>\n      <td>M3B</td>\n      <td>Don Mills</td>\n      <td>North York</td>\n      <td>43.745906</td>\n      <td>-79.352188</td>\n      <td>0</td>\n      <td>Japanese Restaurant</td>\n      <td>Pizza Place</td>\n      <td>Restaurant</td>\n      <td>Café</td>\n    </tr>\n    <tr>\n      <th>27</th>\n      <td>27</td>\n      <td>M3C</td>\n      <td>Don Mills</td>\n      <td>North York</td>\n      <td>43.725900</td>\n      <td>-79.340923</td>\n      <td>0</td>\n      <td>Japanese Restaurant</td>\n      <td>Pizza Place</td>\n      <td>Restaurant</td>\n      <td>Café</td>\n    </tr>\n  </tbody>\n</table>\n</div>"
     },
     "metadata": {},
     "execution_count": 65
    }
   ],
   "source": [
    "# K-means clustering\n",
    "\n",
    "# set number of clusters\n",
    "kclusters = 3\n",
    "\n",
    "Top_suburbs_venue_grouped_clustering = Top_suburbs_venue_grouped.drop('Neighbourhood', 1)\n",
    "\n",
    "# run k-means clustering\n",
    "kmeans = KMeans(n_clusters=kclusters, random_state=0).fit(Top_suburbs_venue_grouped_clustering)\n",
    "\n",
    "# check cluster labels generated for each row in the dataframe\n",
    "print(kmeans.labels_[0:10])\n",
    "\n",
    "# add clustering labels\n",
    "Neighbourhoods_venues_sorted.insert(0, 'Cluster Labels', kmeans.labels_)\n",
    "\n",
    "\n",
    "Top_suburbs_venue_merged = df\n",
    "\n",
    "# merge Toronto_grouped with Toronto_data to add latitude/longitude for each Neighbourhood\n",
    "Top_suburbs_venue_merged = Top_suburbs_venue_merged.join(Neighbourhoods_venues_sorted.set_index('Neighbourhood'), on='Neighbourhood', how = 'inner')\n",
    "\n",
    "\n",
    "Top_suburbs_venue_merged.to_csv(\"Top_venue_result.csv\")\n",
    "Top_suburbs_venue_merged.head()"
   ]
  },
  {
   "source": [
    "## Conlusion\n",
    "We have used three clusters to categorise ten neighbourhoods with the highest number of restaurants. The K-means result shows that:\n",
    "- Category 1: In Scaborough region, the Chinese restaurants are the most common ones.\n",
    "- Category 2: In Willowdale and Newtonbrook region, Korean and Middle Eastern restaurants are the most common ones.\n",
    "- Category 3: In other seven regions, pizza place sounds like a more common business"
   ],
   "cell_type": "markdown",
   "metadata": {}
  }
 ]
}