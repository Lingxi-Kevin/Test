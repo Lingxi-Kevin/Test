{
 "metadata": {
  "language_info": {
   "codemirror_mode": {
    "name": "ipython",
    "version": 3
   },
   "file_extension": ".py",
   "mimetype": "text/x-python",
   "name": "python",
   "nbconvert_exporter": "python",
   "pygments_lexer": "ipython3",
   "version": "3.8.3-final"
  },
  "orig_nbformat": 2,
  "kernelspec": {
   "name": "python3",
   "display_name": "Python 3"
  }
 },
 "nbformat": 4,
 "nbformat_minor": 2,
 "cells": [
  {
   "source": [
    "## Capstone notebook"
   ],
   "cell_type": "markdown",
   "metadata": {}
  },
  {
   "source": [
    "This notebook is used for IBM capstone project."
   ],
   "cell_type": "markdown",
   "metadata": {}
  },
  {
   "cell_type": "code",
   "execution_count": 1,
   "metadata": {},
   "outputs": [
    {
     "output_type": "stream",
     "name": "stdout",
     "text": [
      "Hello Capstone Project Course!\n"
     ]
    }
   ],
   "source": [
    "# Database importing\n",
    "import pandas as pd\n",
    "import numpy as np\n",
    "\n",
    "print(\"Hello Capstone Project Course!\")\n"
   ]
  },
  {
   "source": [
    "## 1. Website data extraction"
   ],
   "cell_type": "markdown",
   "metadata": {}
  },
  {
   "cell_type": "code",
   "execution_count": 2,
   "metadata": {},
   "outputs": [],
   "source": [
    "df = pd.read_html('List of postal codes of Canada_ M - Wikipedia.html')\n",
    "df = df[0]\n"
   ]
  },
  {
   "source": [
    "## 2. Drop address without Borough assigned"
   ],
   "cell_type": "markdown",
   "metadata": {}
  },
  {
   "cell_type": "code",
   "execution_count": 3,
   "metadata": {},
   "outputs": [],
   "source": [
    "# 1. Drop not assined Borough.\n",
    "i = df[df[\"Borough\"] == \"Not assigned\"].index\n",
    "df.drop(i, inplace = True)"
   ]
  },
  {
   "source": [
    "## 3. Merge neighbourhood with same postal code"
   ],
   "cell_type": "markdown",
   "metadata": {}
  },
  {
   "cell_type": "code",
   "execution_count": 17,
   "metadata": {},
   "outputs": [],
   "source": [
    "# 2. merge same postal code neighbourhood. we use postal code as index\n",
    "cdf = pd.DataFrame(df.groupby('Postal Code')['Neighbourhood'].apply(','.join))\n",
    "\n",
    "a = df.drop_duplicates(subset = [\"Postal Code\"])\n",
    "a = a.drop('Neighbourhood',axis = 1)\n",
    "a.set_index(\"Postal Code\",inplace = True)\n",
    "\n",
    "x = pd.concat([cdf, a], axis=1)\n",
    "x.index.set_names(['Postal Code'],inplace = True)\n",
    "x.reset_index(inplace = True)\n"
   ]
  },
  {
   "source": [
    "### 3. replace not assigned Neighbourhood as Borough\n"
   ],
   "cell_type": "markdown",
   "metadata": {}
  },
  {
   "cell_type": "code",
   "execution_count": 18,
   "metadata": {},
   "outputs": [],
   "source": [
    "# test only: x.loc[1:50,\"Neighbourhood\"]=\"Not assigned\"\n",
    "x.loc[x[\"Neighbourhood\"]==\"Not assigned\",\"Neighbourhood\"] = x.loc[x[\"Neighbourhood\"]==\"Not assigned\",\"Borough\"]\n"
   ]
  },
  {
   "source": [
    "## 4. Show the cleaned dataframe"
   ],
   "cell_type": "markdown",
   "metadata": {}
  },
  {
   "cell_type": "code",
   "execution_count": 21,
   "metadata": {},
   "outputs": [
    {
     "output_type": "stream",
     "name": "stdout",
     "text": [
      "    Postal Code                                      Neighbourhood  \\\n0           M1B                                     Malvern, Rouge   \n1           M1C             Rouge Hill, Port Union, Highland Creek   \n2           M1E                  Guildwood, Morningside, West Hill   \n3           M1G                                             Woburn   \n4           M1H                                          Cedarbrae   \n..          ...                                                ...   \n98          M9N                                             Weston   \n99          M9P                                          Westmount   \n100         M9R  Kingsview Village, St. Phillips, Martin Grove ...   \n101         M9V  South Steeles, Silverstone, Humbergate, Jamest...   \n102         M9W                Northwest, West Humber - Clairville   \n\n         Borough  \n0    Scarborough  \n1    Scarborough  \n2    Scarborough  \n3    Scarborough  \n4    Scarborough  \n..           ...  \n98          York  \n99     Etobicoke  \n100    Etobicoke  \n101    Etobicoke  \n102    Etobicoke  \n\n[103 rows x 3 columns]\n(103, 3)\n"
     ]
    }
   ],
   "source": [
    "print(x)\n",
    "\n",
    "print(x.shape)"
   ]
  },
  {
   "cell_type": "code",
   "execution_count": null,
   "metadata": {},
   "outputs": [],
   "source": []
  }
 ]
}